{
 "cells": [
  {
   "cell_type": "code",
   "execution_count": 1,
   "id": "98b06da3",
   "metadata": {
    "ExecuteTime": {
     "end_time": "2023-08-22T06:22:58.021553Z",
     "start_time": "2023-08-22T06:22:58.017464Z"
    }
   },
   "outputs": [
    {
     "name": "stdout",
     "output_type": "stream",
     "text": [
      "<class 'bool'>\n"
     ]
    }
   ],
   "source": [
    "# 논리형 : True or False\n",
    "\n",
    "hungry = True\n",
    "sleep = False\n",
    "\n",
    "# 논리연산자 : &, |, !\n",
    "# 자료형확인 : type() - bool\n",
    "print(type(hungry))"
   ]
  },
  {
   "cell_type": "code",
   "execution_count": 2,
   "id": "44ff988b",
   "metadata": {
    "ExecuteTime": {
     "end_time": "2023-08-22T06:23:18.287315Z",
     "start_time": "2023-08-22T06:23:18.268141Z"
    }
   },
   "outputs": [
    {
     "name": "stdout",
     "output_type": "stream",
     "text": [
      "False\n"
     ]
    }
   ],
   "source": [
    "print(hungry and sleep)"
   ]
  },
  {
   "cell_type": "code",
   "execution_count": 3,
   "id": "9f1ac18e",
   "metadata": {
    "ExecuteTime": {
     "end_time": "2023-08-22T06:24:31.792330Z",
     "start_time": "2023-08-22T06:24:31.786131Z"
    }
   },
   "outputs": [
    {
     "name": "stdout",
     "output_type": "stream",
     "text": [
      "False\n"
     ]
    }
   ],
   "source": [
    "print(not hungry)"
   ]
  },
  {
   "cell_type": "code",
   "execution_count": 4,
   "id": "3b73ed43",
   "metadata": {
    "ExecuteTime": {
     "end_time": "2023-08-22T06:25:13.624231Z",
     "start_time": "2023-08-22T06:25:13.609830Z"
    }
   },
   "outputs": [
    {
     "name": "stdout",
     "output_type": "stream",
     "text": [
      "True\n"
     ]
    }
   ],
   "source": [
    "print(hungry or sleep) "
   ]
  },
  {
   "cell_type": "code",
   "execution_count": 7,
   "id": "e21e27d8",
   "metadata": {
    "ExecuteTime": {
     "end_time": "2023-08-22T06:27:15.054303Z",
     "start_time": "2023-08-22T06:27:15.036179Z"
    }
   },
   "outputs": [
    {
     "name": "stdout",
     "output_type": "stream",
     "text": [
      "ok\n"
     ]
    }
   ],
   "source": [
    "a = 1\n",
    "b = 3\n",
    "\n",
    "#들여쓰기의 중요성\n",
    "if a == 1 and b == 3 :\n",
    "    print(\"ok\")\n",
    "else:\n",
    "    print(\"not ok\")"
   ]
  },
  {
   "cell_type": "code",
   "execution_count": 8,
   "id": "bfd47091",
   "metadata": {
    "ExecuteTime": {
     "end_time": "2023-08-22T06:27:53.953940Z",
     "start_time": "2023-08-22T06:27:53.942201Z"
    }
   },
   "outputs": [
    {
     "name": "stdout",
     "output_type": "stream",
     "text": [
      "ok\n"
     ]
    }
   ],
   "source": [
    "a = 1\n",
    "b = 3\n",
    "\n",
    "#들여쓰기의 중요성\n",
    "if a == 1 and \\\n",
    "b == 3 :\n",
    "    print(\"ok\")\n",
    "else:\n",
    "    print(\"not ok\")"
   ]
  },
  {
   "cell_type": "code",
   "execution_count": 9,
   "id": "f2bb0b28",
   "metadata": {
    "ExecuteTime": {
     "end_time": "2023-08-22T06:30:18.293514Z",
     "start_time": "2023-08-22T06:30:18.281395Z"
    }
   },
   "outputs": [
    {
     "name": "stdout",
     "output_type": "stream",
     "text": [
      "Tell'em\n",
      "to bring out\n",
      "the whole ocean\n"
     ]
    }
   ],
   "source": [
    "# multi line text : 여러줄 문장\n",
    "\n",
    "multi = \"Tell'em\\nto bring out\\nthe whole ocean\"\n",
    "\n",
    "# 제어문자 :  \\n == new line , 줄바꿈\n",
    "\n",
    "print(multi)"
   ]
  },
  {
   "cell_type": "code",
   "execution_count": 11,
   "id": "7bcd72da",
   "metadata": {
    "ExecuteTime": {
     "end_time": "2023-08-22T06:31:10.120982Z",
     "start_time": "2023-08-22T06:31:10.103207Z"
    }
   },
   "outputs": [
    {
     "name": "stdout",
     "output_type": "stream",
     "text": [
      "\n",
      "tell'em\n",
      "to bring out\n",
      "the whole ocean\n",
      "\n"
     ]
    }
   ],
   "source": [
    "multiline = '''\n",
    "tell'em\n",
    "to bring out\n",
    "the whole ocean\n",
    "'''\n",
    "\n",
    "print(multiline)"
   ]
  },
  {
   "cell_type": "code",
   "execution_count": 15,
   "id": "49199dba",
   "metadata": {
    "ExecuteTime": {
     "end_time": "2023-08-22T06:35:19.634848Z",
     "start_time": "2023-08-22T06:35:19.620791Z"
    }
   },
   "outputs": [
    {
     "name": "stdout",
     "output_type": "stream",
     "text": [
      "whole ocean\n",
      "wholeocean\n",
      "whole2ocean\n"
     ]
    }
   ],
   "source": [
    "head = 'whole'\n",
    "tail = 'ocean'\n",
    "print(head, tail)\n",
    "print(head+tail)\n",
    "\n",
    "two = 2\n",
    "\n",
    "print(head + str(two) + tail) # 문자와 숫자를 같이 출력할땐 이렇게 str()로"
   ]
  },
  {
   "cell_type": "code",
   "execution_count": 16,
   "id": "d4e0e0ca",
   "metadata": {
    "ExecuteTime": {
     "end_time": "2023-08-22T06:42:29.331470Z",
     "start_time": "2023-08-22T06:42:29.321973Z"
    }
   },
   "outputs": [
    {
     "name": "stdout",
     "output_type": "stream",
     "text": [
      "bring out the whole ocean\n",
      "n\n",
      "a\n",
      "brin\n"
     ]
    }
   ],
   "source": [
    "# 문자열 인덱싱\n",
    "# R의 벡터 = 파이썬의 리스트\n",
    "\n",
    "xx = \"bring out the whole ocean\"\n",
    "print(xx)\n",
    "\n",
    "# [인덱스]\n",
    "print(xx[3])\n",
    "print(xx[-2])\n",
    "\n",
    "# 슬라이싱 : , start+1 : stop\n",
    "\n",
    "print(xx[0:4])\n",
    "\n"
   ]
  },
  {
   "cell_type": "markdown",
   "id": "36792c28",
   "metadata": {},
   "source": [
    "# 문자열과 관련된 함수"
   ]
  },
  {
   "cell_type": "code",
   "execution_count": 17,
   "id": "96cfebdf",
   "metadata": {
    "ExecuteTime": {
     "end_time": "2023-08-22T06:46:28.733083Z",
     "start_time": "2023-08-22T06:46:28.722611Z"
    }
   },
   "outputs": [
    {
     "name": "stdout",
     "output_type": "stream",
     "text": [
      "False\n",
      "True\n"
     ]
    }
   ],
   "source": [
    "str = 'bring out the whole ocean'\n",
    "\n",
    "# in 과 not in\n",
    "\n",
    "print('Ocean' in str) #대문자 아니라서 False\n",
    "print('ocean' in str)"
   ]
  },
  {
   "cell_type": "code",
   "execution_count": 18,
   "id": "63bccd71",
   "metadata": {
    "ExecuteTime": {
     "end_time": "2023-08-22T06:48:23.218880Z",
     "start_time": "2023-08-22T06:48:23.201096Z"
    }
   },
   "outputs": [
    {
     "name": "stdout",
     "output_type": "stream",
     "text": [
      "3.141592653589793\n"
     ]
    }
   ],
   "source": [
    "import math\n",
    "\n",
    "y = math.pi\n",
    "print(y)"
   ]
  },
  {
   "cell_type": "code",
   "execution_count": 19,
   "id": "255914c2",
   "metadata": {
    "ExecuteTime": {
     "end_time": "2023-08-22T06:49:34.593770Z",
     "start_time": "2023-08-22T06:49:34.579510Z"
    }
   },
   "outputs": [
    {
     "name": "stdout",
     "output_type": "stream",
     "text": [
      "hobby\n",
      "2\n"
     ]
    }
   ],
   "source": [
    "a = 'hobby'\n",
    "print(a)\n",
    "\n",
    "# count : 해당 문자의 개수를 반환해준다.\n",
    "print(a.count('b'))"
   ]
  },
  {
   "cell_type": "code",
   "execution_count": 34,
   "id": "6e37339b",
   "metadata": {
    "ExecuteTime": {
     "end_time": "2023-08-22T06:58:56.788198Z",
     "start_time": "2023-08-22T06:58:56.770576Z"
    }
   },
   "outputs": [
    {
     "name": "stdout",
     "output_type": "stream",
     "text": [
      "bring out the whole ocean\n",
      "10\n",
      "20\n",
      "20\n",
      "20\n"
     ]
    }
   ],
   "source": [
    "# find() : 문자열에서 해당 문자를 찾아 첫 번째 위치를 반환. 단, 없으면 -1을 반환\n",
    "# rfind() : 오른쪽에서부터 첫 번째 위치를 반환 \n",
    "\n",
    "b = 'bring out the whole ocean'\n",
    "print(b)\n",
    "\n",
    "print(b.find('the'))\n",
    "print(b.find('ocean'))\n",
    "print(b.find('ocean'))\n",
    "print(b.rfind('ocean'))"
   ]
  },
  {
   "cell_type": "code",
   "execution_count": 24,
   "id": "eb700917",
   "metadata": {
    "ExecuteTime": {
     "end_time": "2023-08-22T06:55:06.840594Z",
     "start_time": "2023-08-22T06:55:06.823242Z"
    }
   },
   "outputs": [
    {
     "name": "stdout",
     "output_type": "stream",
     "text": [
      "14\n"
     ]
    }
   ],
   "source": [
    "# index : find와 유사하지만 해당 문자열이 없으면 오류 발생\n",
    "x = 'bring out the whole ocean'\n",
    "print(x.index('whole'))"
   ]
  },
  {
   "cell_type": "code",
   "execution_count": 26,
   "id": "f655280d",
   "metadata": {
    "ExecuteTime": {
     "end_time": "2023-08-22T06:56:37.220285Z",
     "start_time": "2023-08-22T06:56:37.210020Z"
    }
   },
   "outputs": [
    {
     "data": {
      "text/plain": [
       "'a,b,c,d'"
      ]
     },
     "execution_count": 26,
     "metadata": {},
     "output_type": "execute_result"
    }
   ],
   "source": [
    "# 구분자.join(문자열) : 각각의 문자열 사이에 저장된 문자를 삽입하는 함수\n",
    "\",\".join('abcd')"
   ]
  },
  {
   "cell_type": "code",
   "execution_count": 38,
   "id": "5826d7f5",
   "metadata": {
    "ExecuteTime": {
     "end_time": "2023-08-22T07:00:03.720086Z",
     "start_time": "2023-08-22T07:00:03.700855Z"
    }
   },
   "outputs": [
    {
     "name": "stdout",
     "output_type": "stream",
     "text": [
      "HELP\n",
      "Help\n"
     ]
    }
   ],
   "source": [
    "# upper / lower\n",
    "data = 'help'\n",
    "\n",
    "print(data.upper())\n",
    "\n",
    "print(data.capitalize())"
   ]
  },
  {
   "cell_type": "code",
   "execution_count": 41,
   "id": "32aa99fc",
   "metadata": {
    "ExecuteTime": {
     "end_time": "2023-08-22T07:02:27.012880Z",
     "start_time": "2023-08-22T07:02:27.008266Z"
    }
   },
   "outputs": [
    {
     "name": "stdout",
     "output_type": "stream",
     "text": [
      "hi\n",
      "       hi\n",
      "hi       \n"
     ]
    }
   ],
   "source": [
    "# 공백제거 : strip, rstrip, lstrip\n",
    "\n",
    "a = '       hi       '\n",
    "\n",
    "print(a.strip())\n",
    "\n",
    "print(a.rstrip())\n",
    "\n",
    "print(a.lstrip())\n"
   ]
  },
  {
   "cell_type": "code",
   "execution_count": 42,
   "id": "8f0a6a9c",
   "metadata": {
    "ExecuteTime": {
     "end_time": "2023-08-22T07:06:02.012523Z",
     "start_time": "2023-08-22T07:06:01.998257Z"
    }
   },
   "outputs": [
    {
     "name": "stdout",
     "output_type": "stream",
     "text": [
      "살고싶다\n"
     ]
    }
   ],
   "source": [
    "a = '죽고싶다'\n",
    "result = a.replace('죽', '살')\n",
    "print(result)"
   ]
  },
  {
   "cell_type": "code",
   "execution_count": 43,
   "id": "2335d308",
   "metadata": {
    "ExecuteTime": {
     "end_time": "2023-08-22T07:08:13.830877Z",
     "start_time": "2023-08-22T07:08:13.813378Z"
    }
   },
   "outputs": [
    {
     "name": "stdout",
     "output_type": "stream",
     "text": [
      "['tell', 'em', 'to', 'bring', 'out', 'the', 'whole', 'ocean']\n"
     ]
    }
   ],
   "source": [
    "a = 'tell em to bring out the whole ocean'\n",
    "result = a.split() # 공백을 기준으로 나눈다 => 리스트로 반환\n",
    "print(result)"
   ]
  },
  {
   "cell_type": "code",
   "execution_count": 50,
   "id": "64acccc9",
   "metadata": {
    "ExecuteTime": {
     "end_time": "2023-08-22T07:13:06.868338Z",
     "start_time": "2023-08-22T07:13:06.858791Z"
    }
   },
   "outputs": [
    {
     "name": "stdout",
     "output_type": "stream",
     "text": [
      "1 2 3\n",
      "4 5 6\n",
      "\n",
      "\n",
      "1 2 3 4 5 6\n",
      "\n",
      "\n",
      "4 5 6\n",
      "4r5r6\n"
     ]
    }
   ],
   "source": [
    "print(1,2,3)\n",
    "print(4,5,6)\n",
    "\n",
    "print('\\n')\n",
    "# print()는 기본적으로 print('출력내용', sep = '\\n') 이다\n",
    "\n",
    "print(1,2,3, end = ' ')\n",
    "print(4,5,6)\n",
    "\n",
    "# end of line : 줄의 끝 처리, end = '\\n' 기본값\n",
    "print('\\n')\n",
    "\n",
    "print(4,5,6)\n",
    "print(4,5,6, sep = 'r')\n"
   ]
  },
  {
   "cell_type": "code",
   "execution_count": null,
   "id": "93c91f9e",
   "metadata": {},
   "outputs": [],
   "source": []
  }
 ],
 "metadata": {
  "kernelspec": {
   "display_name": "Python 3",
   "language": "python",
   "name": "python3"
  },
  "language_info": {
   "codemirror_mode": {
    "name": "ipython",
    "version": 3
   },
   "file_extension": ".py",
   "mimetype": "text/x-python",
   "name": "python",
   "nbconvert_exporter": "python",
   "pygments_lexer": "ipython3",
   "version": "3.8.8"
  },
  "toc": {
   "base_numbering": 1,
   "nav_menu": {},
   "number_sections": true,
   "sideBar": true,
   "skip_h1_title": false,
   "title_cell": "Table of Contents",
   "title_sidebar": "Contents",
   "toc_cell": false,
   "toc_position": {},
   "toc_section_display": true,
   "toc_window_display": false
  },
  "varInspector": {
   "cols": {
    "lenName": 16,
    "lenType": 16,
    "lenVar": 40
   },
   "kernels_config": {
    "python": {
     "delete_cmd_postfix": "",
     "delete_cmd_prefix": "del ",
     "library": "var_list.py",
     "varRefreshCmd": "print(var_dic_list())"
    },
    "r": {
     "delete_cmd_postfix": ") ",
     "delete_cmd_prefix": "rm(",
     "library": "var_list.r",
     "varRefreshCmd": "cat(var_dic_list()) "
    }
   },
   "types_to_exclude": [
    "module",
    "function",
    "builtin_function_or_method",
    "instance",
    "_Feature"
   ],
   "window_display": false
  }
 },
 "nbformat": 4,
 "nbformat_minor": 5
}

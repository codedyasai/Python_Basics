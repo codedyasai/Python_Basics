{
 "cells": [
  {
   "cell_type": "markdown",
   "id": "cfde31dc",
   "metadata": {},
   "source": [
    "# 정규 표현식\n",
    "- 복잡한 문자열을 처리할 때 사용하는 기법\n",
    "- 모든 언어에서 문자열을 처리할때 공통으로 사용\n",
    "- 예 : 주민등록번호의 뒷자리를 '*' 문자로 변경"
   ]
  },
  {
   "cell_type": "markdown",
   "id": "0bfc9001",
   "metadata": {},
   "source": [
    "## 정규표현식을 사용하지 않은 예"
   ]
  },
  {
   "cell_type": "code",
   "execution_count": 1,
   "id": "ef84c68e",
   "metadata": {
    "ExecuteTime": {
     "end_time": "2023-09-04T06:51:47.915773Z",
     "start_time": "2023-09-04T06:51:47.910131Z"
    }
   },
   "outputs": [
    {
     "name": "stdout",
     "output_type": "stream",
     "text": [
      "\n",
      "park 800905-*******\n",
      "kim 700905-*******\n",
      "lee 880203-*******\n",
      "hong 901105-*******\n",
      "jang 020319-*******\n",
      "\n"
     ]
    }
   ],
   "source": [
    "data=\"\"\"\n",
    "park 800905-1049118\n",
    "kim 700905-1059119\n",
    "lee 880203-2110537\n",
    "hong 901105-1234567\n",
    "jang 020319-2205147\n",
    "\"\"\"\n",
    "result=[] # list()\n",
    "# 전체 텍스트를 공백문자로 나눈다 split\n",
    "for line in data.split('\\n'):\n",
    "    word_result=[]\n",
    "    for word in line.split(' '):        \n",
    "#나누어진 단어가 주민등록 형식인지를 판단\n",
    "        if len(word)==14 and word[:6].isdigit() and word[7:].isdigit():      \n",
    "#주민등록번호 형식이라면 뒷자리를 *로 변환\n",
    "            word=word[:6]+'-'+'*******'\n",
    "#나누어진 데이터를 합침\n",
    "        word_result.append(word)\n",
    "    result.append(' '.join(word_result))\n",
    "print('\\n'.join(result))\n"
   ]
  },
  {
   "cell_type": "markdown",
   "id": "80c4a434",
   "metadata": {},
   "source": [
    "## 정규표현식을 이용한 예"
   ]
  },
  {
   "cell_type": "code",
   "execution_count": 7,
   "id": "bf61d857",
   "metadata": {
    "ExecuteTime": {
     "end_time": "2023-09-04T07:04:55.080929Z",
     "start_time": "2023-09-04T07:04:55.073294Z"
    }
   },
   "outputs": [
    {
     "name": "stdout",
     "output_type": "stream",
     "text": [
      "\n",
      "park 800905-*******\n",
      "kim 700905-*******\n",
      "lee 880203-*******\n",
      "hong 901105-*******\n",
      "jang 020319-*******\n",
      "\n"
     ]
    }
   ],
   "source": [
    "#정규표현식을 위한 re 모듈\n",
    "import re\n",
    "\n",
    "data=\"\"\"\n",
    "park 800905-1049118\n",
    "kim 700905-1059119\n",
    "lee 880203-2110537\n",
    "hong 901105-1234567\n",
    "jang 020319-2205147\n",
    "\"\"\"\n",
    "\n",
    "pat=re.compile(\"(\\d{6})[-]\\d{7}\")\n",
    "print(pat.sub(\"\\g<1>-*******\",data))"
   ]
  },
  {
   "cell_type": "markdown",
   "id": "f9d8d5b4",
   "metadata": {},
   "source": [
    "# 메타문자\n",
    "- 원래 그 문자의 의미가 아니라 특별한 의미를 가진 문자\n",
    "- 종류 : , ^ $ * + ? [] {} \\ | ()"
   ]
  },
  {
   "cell_type": "code",
   "execution_count": 12,
   "id": "def0920e",
   "metadata": {
    "ExecuteTime": {
     "end_time": "2023-08-29T01:35:25.199582Z",
     "start_time": "2023-08-29T01:35:25.185713Z"
    }
   },
   "outputs": [],
   "source": [
    "# 메타문자 : [] \n",
    "# [a,b,c] : a,b,c 중 하나라도 문자와 매칭\n",
    "## [a-c] : [abc] 와 동일\n",
    "## [0-5] : [012345]\n",
    "## [a-zA-Z]: 알파벳 모든문자\n",
    "##[0-9] : 모든 숫자\n",
    "## ^  : not, [^0-9] 숫자가 아닌, 0~9가 아닌\n",
    "## .(dot) : a.b == 'a'+ 모든문자+'b'"
   ]
  },
  {
   "cell_type": "code",
   "execution_count": 20,
   "id": "234c1e26",
   "metadata": {
    "ExecuteTime": {
     "end_time": "2023-08-29T01:40:43.843556Z",
     "start_time": "2023-08-29T01:40:43.838631Z"
    }
   },
   "outputs": [
    {
     "name": "stdout",
     "output_type": "stream",
     "text": [
      "[]\n",
      "['kim']\n",
      "['m', 'm']\n"
     ]
    }
   ],
   "source": [
    "string='My id num is kim0902'\n",
    "#특정 패턴에 해당하는 것을 찾는작업\n",
    "## findall(패턴,문자열) : 해당 패턴에 일치하는 모든 문자\n",
    "\n",
    "a=re.findall('a',string)\n",
    "print(a)\n",
    "\n",
    "b=re.findall('kim',string)\n",
    "print(b)\n",
    "\n",
    "c=re.findall('m',string)\n",
    "print(c)"
   ]
  },
  {
   "cell_type": "code",
   "execution_count": 24,
   "id": "b017732f",
   "metadata": {
    "ExecuteTime": {
     "end_time": "2023-08-29T01:45:29.143864Z",
     "start_time": "2023-08-29T01:45:29.116962Z"
    }
   },
   "outputs": [
    {
     "name": "stdout",
     "output_type": "stream",
     "text": [
      "['y', 'i', 'd', 'u', 'm', 'i', 's']\n",
      "['y', 'id', 'um', 'is']\n",
      "['M', 'N', 'K', 'I', 'M']\n",
      "['M', 'N', 'KIM']\n"
     ]
    }
   ],
   "source": [
    "string='My id Num is KIM0902'\n",
    "\n",
    "# 모든 소문자를 찾아서 리스트로 반환\n",
    "a=re.findall('[a-z]',string)\n",
    "print(a)\n",
    "\n",
    "\n",
    "# 단어 단위로 찾는 작업 : + \n",
    "b=re.findall('[a-z]+',string)\n",
    "print(b)\n",
    "\n",
    "#대문자를 문자단위로\n",
    "c=re.findall('[A-Z]',string)\n",
    "print(c)\n",
    "\n",
    "#대문자를 단어단위로\n",
    "d=re.findall('[A-Z]+',string)\n",
    "print(d)"
   ]
  },
  {
   "cell_type": "code",
   "execution_count": 33,
   "id": "fb95392e",
   "metadata": {
    "ExecuteTime": {
     "end_time": "2023-08-29T01:52:43.234634Z",
     "start_time": "2023-08-29T01:52:43.211472Z"
    }
   },
   "outputs": [
    {
     "name": "stdout",
     "output_type": "stream",
     "text": [
      "['M', 'y', 'i', 'd', 'n', 'u', 'm', 'b', 'e', 'r', 'i', 's', 'k', 'i', 'm', 'w', '0', '5', '0', '2']\n",
      "['My', 'id', 'number', 'is', 'kimw', '0502']\n",
      "[' ', ' ', ' ', ' ', '_', '$', '%']\n",
      "['M', 'y', 'i', 'd', 'n', 'u', 'm', 'b', 'e', 'r', 'i', 's', 'k', 'i', 'm', 'w', '_', '0', '5', '0', '2']\n",
      "['My', 'id', 'number', 'is', 'kimw_0502']\n",
      "[' ', ' ', ' ', ' ', '$', '%']\n"
     ]
    }
   ],
   "source": [
    "string='My id number is kimw_0502$%'\n",
    "\n",
    "# 영문자와 숫자로만 이루어진 글자 추출\n",
    "a=re.findall('[a-zA-Z0-9]',string)\n",
    "print(a)\n",
    "\n",
    "# 영문자와 숫자로만 이루어진 단어\n",
    "b=re.findall('[a-zA-Z0-9]+',string)\n",
    "print(b)\n",
    "\n",
    "\n",
    "#영문자와 숫자가 아닌\n",
    "c=re.findall('[^a-zA-Z0-9]',string)\n",
    "print(c)\n",
    "\n",
    "# \\w(소문자w); 영문자와 숫자\n",
    "d=re.findall('[\\w]',string)\n",
    "print(d)\n",
    "\n",
    "e=re.findall('[\\w]+',string)\n",
    "print(e)\n",
    "\n",
    "# \\W (대문자) : 영문자와 숫자, _가 아닌문자\n",
    "f=re.findall('[\\W]',string)\n",
    "print(f)"
   ]
  },
  {
   "cell_type": "code",
   "execution_count": 8,
   "id": "86f64492",
   "metadata": {
    "ExecuteTime": {
     "end_time": "2023-09-04T07:05:00.199530Z",
     "start_time": "2023-09-04T07:05:00.187523Z"
    }
   },
   "outputs": [],
   "source": [
    "# 비밀번호 체크하는 함수 구현\n",
    "## 문자의 길이는 6~12 글자 이내\n",
    "## 영문자와 숫자를 포함\n",
    "\n",
    "def check_pass(pwd):\n",
    "    # 글자수 체크\n",
    "    if len(pwd)<6 or len(pwd)>12:\n",
    "        print(f'{pwd} 재설정하시오')\n",
    "        return False\n",
    "    #영문자와 숫자로만 구성\n",
    "    if re.findall('[a-zA-Z0-9]+',pwd)[0] != pwd:\n",
    "        print(f'{pwd}는 영문자와 숫자로만 이루어지지않음')\n",
    "        return False\n",
    "    #영문자와 소문자,대문자 적어도 한글짜는 포함되어야함\n",
    "    if len(re.findall('[a-z]',pwd))<1 or len(re.findall('[A-Z]',pwd))<1:\n",
    "        print('대소문자 한글자 이상해야됨')\n",
    "        return False\n",
    "    \n",
    "    #올바른 비밀번호형식을 경우\n",
    "    print(f'[pwd]는 올바름')"
   ]
  },
  {
   "cell_type": "code",
   "execution_count": 9,
   "id": "fa32162a",
   "metadata": {
    "ExecuteTime": {
     "end_time": "2023-09-04T07:05:05.331942Z",
     "start_time": "2023-09-04T07:05:01.063770Z"
    }
   },
   "outputs": [
    {
     "name": "stdout",
     "output_type": "stream",
     "text": [
      "입력: Meddler00\n",
      "[pwd]는 올바름\n"
     ]
    }
   ],
   "source": [
    "pwd=input('입력: ')\n",
    "check_pass(pwd)"
   ]
  },
  {
   "cell_type": "code",
   "execution_count": 11,
   "id": "9028b4fa",
   "metadata": {
    "ExecuteTime": {
     "end_time": "2023-09-04T07:12:36.323539Z",
     "start_time": "2023-09-04T07:12:36.306130Z"
    }
   },
   "outputs": [],
   "source": [
    "# 이메일 체크함수\n",
    "## 첫글자는 영문자의 소문자와 숫자로 이루어지되 2글자이상\n",
    "## 문자열 사이에 @를포함\n",
    "## 마지막은 반드시.와 함께 영문자 2글자 이상으로끝\n",
    "\n",
    "def email_check(mail):\n",
    "    # ^[a-z]: 시작문자는 영문자 소문자\n",
    "    # [^a-z]: 소문자 제외\n",
    "    # {n}: n개 반복\n",
    "    # {n,m}: 최소 n개,최대 m개 \\d{3,5} 숫자가 3~5개는포함\n",
    "    # []$: 해당패턴으로 끝나야됨\n",
    "    # \\문자 : 해당문자는 반드시 있어야됨\n",
    "    exp=re.findall('^[a-z0-9]{2,}@[a-z0-9]{2,}\\.[a-z0-9]{2,}$',mail)\n",
    "    if len(exp)==0:\n",
    "        print(mail,'은 형식올바르지않음')\n",
    "        return\n",
    "    print(mail,'은 올바른 형식임')\n",
    "    return\n",
    "    "
   ]
  },
  {
   "cell_type": "code",
   "execution_count": 12,
   "id": "743cde7b",
   "metadata": {
    "ExecuteTime": {
     "end_time": "2023-09-04T07:12:38.025874Z",
     "start_time": "2023-09-04T07:12:38.008002Z"
    }
   },
   "outputs": [
    {
     "name": "stdout",
     "output_type": "stream",
     "text": [
      "adsadas@adad.com 은 올바른 형식임\n"
     ]
    }
   ],
   "source": [
    "email_check('adsadas@adad.com')"
   ]
  },
  {
   "cell_type": "code",
   "execution_count": 45,
   "id": "d07b22d0",
   "metadata": {
    "ExecuteTime": {
     "end_time": "2023-08-29T02:30:13.939906Z",
     "start_time": "2023-08-29T02:30:13.924111Z"
    }
   },
   "outputs": [
    {
     "name": "stdout",
     "output_type": "stream",
     "text": [
      "adsadas@a 은 형식올바르지않음\n"
     ]
    }
   ],
   "source": [
    "email_check('adsadas@a')"
   ]
  },
  {
   "cell_type": "code",
   "execution_count": 46,
   "id": "0f693fa4",
   "metadata": {
    "ExecuteTime": {
     "end_time": "2023-08-29T02:30:26.316518Z",
     "start_time": "2023-08-29T02:30:26.303422Z"
    }
   },
   "outputs": [
    {
     "name": "stdout",
     "output_type": "stream",
     "text": [
      "aadad.com 은 형식올바르지않음\n"
     ]
    }
   ],
   "source": [
    "email_check('aadad.com')"
   ]
  },
  {
   "cell_type": "code",
   "execution_count": 51,
   "id": "e3e9e6c6",
   "metadata": {
    "ExecuteTime": {
     "end_time": "2023-08-29T02:34:54.250561Z",
     "start_time": "2023-08-29T02:34:54.239438Z"
    }
   },
   "outputs": [
    {
     "name": "stdout",
     "output_type": "stream",
     "text": [
      "lee12@345.com 은 올바른 형식임\n"
     ]
    }
   ],
   "source": [
    "email_check('lee12@345.com')"
   ]
  },
  {
   "cell_type": "code",
   "execution_count": 16,
   "id": "772623f8",
   "metadata": {
    "ExecuteTime": {
     "end_time": "2023-09-04T07:13:48.346361Z",
     "start_time": "2023-09-04T07:13:48.327815Z"
    }
   },
   "outputs": [
    {
     "name": "stdout",
     "output_type": "stream",
     "text": [
      "aadad@fuck.fuck 은 올바른 형식임\n"
     ]
    }
   ],
   "source": [
    "email_check('aadad@fuck.fuck')"
   ]
  }
 ],
 "metadata": {
  "kernelspec": {
   "display_name": "Python 3",
   "language": "python",
   "name": "python3"
  },
  "language_info": {
   "codemirror_mode": {
    "name": "ipython",
    "version": 3
   },
   "file_extension": ".py",
   "mimetype": "text/x-python",
   "name": "python",
   "nbconvert_exporter": "python",
   "pygments_lexer": "ipython3",
   "version": "3.8.8"
  },
  "toc": {
   "base_numbering": 1,
   "nav_menu": {},
   "number_sections": true,
   "sideBar": true,
   "skip_h1_title": false,
   "title_cell": "Table of Contents",
   "title_sidebar": "Contents",
   "toc_cell": false,
   "toc_position": {},
   "toc_section_display": true,
   "toc_window_display": false
  },
  "varInspector": {
   "cols": {
    "lenName": 16,
    "lenType": 16,
    "lenVar": 40
   },
   "kernels_config": {
    "python": {
     "delete_cmd_postfix": "",
     "delete_cmd_prefix": "del ",
     "library": "var_list.py",
     "varRefreshCmd": "print(var_dic_list())"
    },
    "r": {
     "delete_cmd_postfix": ") ",
     "delete_cmd_prefix": "rm(",
     "library": "var_list.r",
     "varRefreshCmd": "cat(var_dic_list()) "
    }
   },
   "types_to_exclude": [
    "module",
    "function",
    "builtin_function_or_method",
    "instance",
    "_Feature"
   ],
   "window_display": false
  }
 },
 "nbformat": 4,
 "nbformat_minor": 5
}

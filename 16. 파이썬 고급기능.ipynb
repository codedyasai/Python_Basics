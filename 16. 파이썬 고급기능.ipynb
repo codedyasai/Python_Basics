{
 "cells": [
  {
   "cell_type": "markdown",
   "id": "e1a10455",
   "metadata": {},
   "source": [
    "# 언더바 or 언더스코어 or 밑줄\n",
    "\n",
    "1. 인터프리터 상에서 마지막값\n",
    "2. 무시하는 값\n",
    "3. 숫자의 자리수 지정\n",
    "4. 앞 언더바1개 : 모듈내에서만 접근이 허용되는 객체\n",
    "5. 뒤 언더바 1개 : 같은 이름의 충돌을 막기 위해 사용\n",
    "6. 앞 언더바2개 : 네임 맹글링\n",
    "7. 앞뒤에 언더바2개 : 이미 정의되어있는 변수 or 매직메서드"
   ]
  },
  {
   "cell_type": "markdown",
   "id": "1252eb66",
   "metadata": {},
   "source": [
    "## 인터프리터에서의 마지막값"
   ]
  },
  {
   "cell_type": "code",
   "execution_count": 1,
   "id": "a2385f48",
   "metadata": {
    "ExecuteTime": {
     "end_time": "2023-08-29T07:27:54.830373Z",
     "start_time": "2023-08-29T07:27:54.813716Z"
    }
   },
   "outputs": [
    {
     "data": {
      "text/plain": [
       "17"
      ]
     },
     "execution_count": 1,
     "metadata": {},
     "output_type": "execute_result"
    }
   ],
   "source": [
    "10+7"
   ]
  },
  {
   "cell_type": "code",
   "execution_count": 2,
   "id": "93e0e289",
   "metadata": {
    "ExecuteTime": {
     "end_time": "2023-08-29T07:28:01.842040Z",
     "start_time": "2023-08-29T07:28:01.827808Z"
    }
   },
   "outputs": [
    {
     "data": {
      "text/plain": [
       "20"
      ]
     },
     "execution_count": 2,
     "metadata": {},
     "output_type": "execute_result"
    }
   ],
   "source": [
    "_+3"
   ]
  },
  {
   "cell_type": "markdown",
   "id": "2a43d9f3",
   "metadata": {},
   "source": [
    "## 무시하는값\n",
    "- 변수는 기본적으로 기억장소를 할당받아 생성된다\n",
    "- 기억장소의 낭비를 최소화하기 위해 필요없는 변수는 굳이 생성하지 않는다"
   ]
  },
  {
   "cell_type": "code",
   "execution_count": 4,
   "id": "4549c399",
   "metadata": {
    "ExecuteTime": {
     "end_time": "2023-08-29T07:30:14.102867Z",
     "start_time": "2023-08-29T07:30:14.094878Z"
    }
   },
   "outputs": [
    {
     "name": "stdout",
     "output_type": "stream",
     "text": [
      "0\n",
      "1\n",
      "2\n",
      "3\n",
      "4\n"
     ]
    }
   ],
   "source": [
    "# range(5) : 0,1,2,3,4\n",
    "for _ in range(5):\n",
    "    print(_)"
   ]
  },
  {
   "cell_type": "code",
   "execution_count": 7,
   "id": "7b85b07d",
   "metadata": {
    "ExecuteTime": {
     "end_time": "2023-08-29T07:35:27.347688Z",
     "start_time": "2023-08-29T07:35:27.327189Z"
    }
   },
   "outputs": [
    {
     "ename": "ValueError",
     "evalue": "too many values to unpack (expected 3)",
     "output_type": "error",
     "traceback": [
      "\u001b[1;31m---------------------------------------------------------------------------\u001b[0m",
      "\u001b[1;31mValueError\u001b[0m                                Traceback (most recent call last)",
      "\u001b[1;32m<ipython-input-7-e23294a90188>\u001b[0m in \u001b[0;36m<module>\u001b[1;34m\u001b[0m\n\u001b[0;32m      1\u001b[0m \u001b[1;31m# packing: 하나의 변수에 여러 개의 값을 담는 행위\u001b[0m\u001b[1;33m\u001b[0m\u001b[1;33m\u001b[0m\u001b[1;33m\u001b[0m\u001b[0m\n\u001b[1;32m----> 2\u001b[1;33m \u001b[0maa\u001b[0m\u001b[1;33m,\u001b[0m\u001b[0m_\u001b[0m\u001b[1;33m,\u001b[0m\u001b[0mcc\u001b[0m\u001b[1;33m=\u001b[0m\u001b[0ma\u001b[0m\u001b[1;33m=\u001b[0m\u001b[1;33m[\u001b[0m\u001b[1;36m1\u001b[0m\u001b[1;33m,\u001b[0m\u001b[1;36m2\u001b[0m\u001b[1;33m,\u001b[0m\u001b[1;36m3\u001b[0m\u001b[1;33m,\u001b[0m\u001b[1;36m4\u001b[0m\u001b[1;33m,\u001b[0m\u001b[1;36m5\u001b[0m\u001b[1;33m]\u001b[0m\u001b[1;33m\u001b[0m\u001b[1;33m\u001b[0m\u001b[0m\n\u001b[0m\u001b[0;32m      3\u001b[0m \u001b[0mprint\u001b[0m\u001b[1;33m(\u001b[0m\u001b[0maa\u001b[0m\u001b[1;33m,\u001b[0m\u001b[0m_\u001b[0m\u001b[1;33m,\u001b[0m\u001b[0mcc\u001b[0m\u001b[1;33m)\u001b[0m\u001b[1;33m\u001b[0m\u001b[1;33m\u001b[0m\u001b[0m\n",
      "\u001b[1;31mValueError\u001b[0m: too many values to unpack (expected 3)"
     ]
    }
   ],
   "source": [
    "# packing: 하나의 변수에 여러 개의 값을 담는 행위\n",
    "aa,_,cc=a=[1,2,3,4,5]\n",
    "print(aa,_,cc)"
   ]
  },
  {
   "cell_type": "code",
   "execution_count": 10,
   "id": "a6c2ccaa",
   "metadata": {
    "ExecuteTime": {
     "end_time": "2023-08-29T07:36:35.093997Z",
     "start_time": "2023-08-29T07:36:35.086916Z"
    }
   },
   "outputs": [],
   "source": [
    "def adder(*ar):\n",
    "    tot=0\n",
    "    for i in ar:\n",
    "        tot +=i\n",
    "        return tot"
   ]
  },
  {
   "cell_type": "code",
   "execution_count": 11,
   "id": "a6129bdf",
   "metadata": {
    "ExecuteTime": {
     "end_time": "2023-08-29T07:36:35.910808Z",
     "start_time": "2023-08-29T07:36:35.900432Z"
    }
   },
   "outputs": [
    {
     "data": {
      "text/plain": [
       "3"
      ]
     },
     "execution_count": 11,
     "metadata": {},
     "output_type": "execute_result"
    }
   ],
   "source": [
    "adder(3,4)"
   ]
  },
  {
   "cell_type": "markdown",
   "id": "e64d31b9",
   "metadata": {},
   "source": [
    "## 앞언더바 1개인 변수 or 함수"
   ]
  },
  {
   "cell_type": "code",
   "execution_count": 16,
   "id": "28f4cc34",
   "metadata": {
    "ExecuteTime": {
     "end_time": "2023-08-29T07:45:28.493807Z",
     "start_time": "2023-08-29T07:45:28.481862Z"
    }
   },
   "outputs": [],
   "source": [
    "from greeting import *"
   ]
  },
  {
   "cell_type": "code",
   "execution_count": 17,
   "id": "c8ed52df",
   "metadata": {
    "ExecuteTime": {
     "end_time": "2023-08-29T07:45:31.089876Z",
     "start_time": "2023-08-29T07:45:31.078877Z"
    }
   },
   "outputs": [
    {
     "name": "stdout",
     "output_type": "stream",
     "text": [
      "hi\n"
     ]
    },
    {
     "ename": "NameError",
     "evalue": "name 'show' is not defined",
     "output_type": "error",
     "traceback": [
      "\u001b[1;31m---------------------------------------------------------------------------\u001b[0m",
      "\u001b[1;31mNameError\u001b[0m                                 Traceback (most recent call last)",
      "\u001b[1;32m<ipython-input-17-d2bcb42cd566>\u001b[0m in \u001b[0;36m<module>\u001b[1;34m\u001b[0m\n\u001b[0;32m      1\u001b[0m \u001b[0mhi\u001b[0m\u001b[1;33m(\u001b[0m\u001b[1;33m)\u001b[0m\u001b[1;33m\u001b[0m\u001b[1;33m\u001b[0m\u001b[0m\n\u001b[1;32m----> 2\u001b[1;33m \u001b[0mshow\u001b[0m\u001b[1;33m(\u001b[0m\u001b[1;33m)\u001b[0m\u001b[1;33m\u001b[0m\u001b[1;33m\u001b[0m\u001b[0m\n\u001b[0m",
      "\u001b[1;31mNameError\u001b[0m: name 'show' is not defined"
     ]
    }
   ],
   "source": [
    "hi()\n",
    "show()"
   ]
  },
  {
   "cell_type": "code",
   "execution_count": 19,
   "id": "3376268e",
   "metadata": {
    "ExecuteTime": {
     "end_time": "2023-08-29T07:46:39.066879Z",
     "start_time": "2023-08-29T07:46:39.060790Z"
    }
   },
   "outputs": [
    {
     "name": "stdout",
     "output_type": "stream",
     "text": [
      "hello\n"
     ]
    }
   ],
   "source": [
    "import greeting\n",
    "greeting._hello()"
   ]
  },
  {
   "cell_type": "code",
   "execution_count": 21,
   "id": "f2d31bfb",
   "metadata": {
    "ExecuteTime": {
     "end_time": "2023-08-29T07:46:59.316827Z",
     "start_time": "2023-08-29T07:46:59.311748Z"
    }
   },
   "outputs": [],
   "source": [
    "from greeting import hi,_hello"
   ]
  },
  {
   "cell_type": "code",
   "execution_count": 23,
   "id": "b4b84654",
   "metadata": {
    "ExecuteTime": {
     "end_time": "2023-08-29T07:47:10.853043Z",
     "start_time": "2023-08-29T07:47:10.831547Z"
    }
   },
   "outputs": [
    {
     "name": "stdout",
     "output_type": "stream",
     "text": [
      "hello\n"
     ]
    }
   ],
   "source": [
    "_hello()"
   ]
  },
  {
   "cell_type": "markdown",
   "id": "2fda76cd",
   "metadata": {},
   "source": [
    "## 뒤 언더바1개: 충돌회피용"
   ]
  },
  {
   "cell_type": "code",
   "execution_count": 26,
   "id": "121f1c2d",
   "metadata": {
    "ExecuteTime": {
     "end_time": "2023-08-29T07:49:30.503877Z",
     "start_time": "2023-08-29T07:49:30.486030Z"
    }
   },
   "outputs": [
    {
     "name": "stdout",
     "output_type": "stream",
     "text": [
      "a=  100\n",
      "a=  1\n",
      "a=  100\n"
     ]
    }
   ],
   "source": [
    "a= 100\n",
    "print('a= ',a)\n",
    "a_=1\n",
    "print('a= ',a_)\n",
    "print('a= ',a)"
   ]
  },
  {
   "cell_type": "markdown",
   "id": "1f02fb5d",
   "metadata": {},
   "source": [
    "## name mangling:앞 언더바2개 \n",
    "- 외부에서 클래스 속성값에 접근하지 못하게 막을때\n",
    "- 오버라이딩 방지용"
   ]
  },
  {
   "cell_type": "code",
   "execution_count": 28,
   "id": "b01c557b",
   "metadata": {
    "ExecuteTime": {
     "end_time": "2023-08-29T07:54:27.371630Z",
     "start_time": "2023-08-29T07:54:27.364631Z"
    }
   },
   "outputs": [],
   "source": [
    "class Person():\n",
    "    def __init__(self):\n",
    "        self.name='킬'\n",
    "        self.age=25\n",
    "        self.hobby='빌'\n",
    "        \n",
    "class People(Person):\n",
    "    def __init__(self):\n",
    "        Person.__init__(self)\n",
    "        self.name='버거'\n",
    "        self.age=30\n",
    "        self.hobby='보고'"
   ]
  },
  {
   "cell_type": "code",
   "execution_count": 31,
   "id": "78e68afd",
   "metadata": {
    "ExecuteTime": {
     "end_time": "2023-08-29T07:54:56.665490Z",
     "start_time": "2023-08-29T07:54:56.655980Z"
    }
   },
   "outputs": [
    {
     "name": "stdout",
     "output_type": "stream",
     "text": [
      "버거\n"
     ]
    }
   ],
   "source": [
    "c= People()\n",
    "print(c.name)"
   ]
  },
  {
   "cell_type": "code",
   "execution_count": 33,
   "id": "e42d4d3e",
   "metadata": {
    "ExecuteTime": {
     "end_time": "2023-08-29T08:18:23.877894Z",
     "start_time": "2023-08-29T08:18:23.869839Z"
    }
   },
   "outputs": [],
   "source": [
    "class Book:\n",
    "    # 멤버필드\n",
    "    __country = 'korea'\n",
    "    city = 'seoul'\n",
    "    \n",
    "    # 멤버 메서드\n",
    "    def updatwCountry(self,country):\n",
    "        self.__country = country\n",
    "        \n",
    "    def getc(self):\n",
    "        return self.__country"
   ]
  },
  {
   "cell_type": "code",
   "execution_count": 37,
   "id": "38294c57",
   "metadata": {
    "ExecuteTime": {
     "end_time": "2023-08-29T08:19:30.176781Z",
     "start_time": "2023-08-29T08:19:30.167590Z"
    }
   },
   "outputs": [
    {
     "name": "stdout",
     "output_type": "stream",
     "text": [
      "['_Book__country', '__class__', '__delattr__', '__dict__', '__dir__', '__doc__', '__eq__', '__format__', '__ge__', '__getattribute__', '__gt__', '__hash__', '__init__', '__init_subclass__', '__le__', '__lt__', '__module__', '__ne__', '__new__', '__reduce__', '__reduce_ex__', '__repr__', '__setattr__', '__sizeof__', '__str__', '__subclasshook__', '__weakref__', 'city', 'getc', 'updatwCountry']\n"
     ]
    }
   ],
   "source": [
    "print(dir(Book))"
   ]
  },
  {
   "cell_type": "code",
   "execution_count": 39,
   "id": "d8d77aca",
   "metadata": {
    "ExecuteTime": {
     "end_time": "2023-08-29T08:20:08.733674Z",
     "start_time": "2023-08-29T08:20:08.718882Z"
    }
   },
   "outputs": [
    {
     "data": {
      "text/plain": [
       "'london'"
      ]
     },
     "execution_count": 39,
     "metadata": {},
     "output_type": "execute_result"
    }
   ],
   "source": [
    "b=Book()\n",
    "b.city='london'\n",
    "b.city"
   ]
  },
  {
   "cell_type": "code",
   "execution_count": 43,
   "id": "0d77b0ce",
   "metadata": {
    "ExecuteTime": {
     "end_time": "2023-08-29T08:22:44.842853Z",
     "start_time": "2023-08-29T08:22:44.836778Z"
    }
   },
   "outputs": [
    {
     "name": "stdout",
     "output_type": "stream",
     "text": [
      "usa\n"
     ]
    }
   ],
   "source": [
    "b.__country ='usa'\n",
    "print(b.__country)"
   ]
  },
  {
   "cell_type": "code",
   "execution_count": 44,
   "id": "1659f9b2",
   "metadata": {
    "ExecuteTime": {
     "end_time": "2023-08-29T08:22:47.446756Z",
     "start_time": "2023-08-29T08:22:47.438615Z"
    }
   },
   "outputs": [
    {
     "data": {
      "text/plain": [
       "'japan'"
      ]
     },
     "execution_count": 44,
     "metadata": {},
     "output_type": "execute_result"
    }
   ],
   "source": [
    "b.updatwCountry('japan')\n",
    "b.getc()"
   ]
  },
  {
   "cell_type": "code",
   "execution_count": 45,
   "id": "853bc93a",
   "metadata": {
    "ExecuteTime": {
     "end_time": "2023-08-29T08:29:20.260992Z",
     "start_time": "2023-08-29T08:29:20.242992Z"
    }
   },
   "outputs": [],
   "source": [
    "class Book:\n",
    "    # 멤버필드\n",
    "    def __init(self):\n",
    "        __country = 'korea'\n",
    "        city = 'seoul'\n",
    "    \n",
    "    # 멤버 메서드\n",
    "    def updatwCountry(self,country):\n",
    "        self.__country = country\n",
    "        \n",
    "    def getc(self):\n",
    "        return self.__country"
   ]
  },
  {
   "cell_type": "code",
   "execution_count": 48,
   "id": "9603d214",
   "metadata": {
    "ExecuteTime": {
     "end_time": "2023-08-29T08:30:45.809293Z",
     "start_time": "2023-08-29T08:30:45.797159Z"
    }
   },
   "outputs": [
    {
     "name": "stdout",
     "output_type": "stream",
     "text": [
      "japan\n",
      "kor\n"
     ]
    }
   ],
   "source": [
    "b=Book()\n",
    "b.__country='japan'\n",
    "b.city='kor'\n",
    "print(b.__country)\n",
    "print(b.city)"
   ]
  },
  {
   "cell_type": "markdown",
   "id": "5f859569",
   "metadata": {},
   "source": [
    "# 클로저\n",
    "\n",
    "- 중첩함수 : 함수 안에 또 다른 함수를 포함하고 있는 것"
   ]
  },
  {
   "cell_type": "code",
   "execution_count": 49,
   "id": "d5252757",
   "metadata": {
    "ExecuteTime": {
     "end_time": "2023-08-29T08:35:34.999874Z",
     "start_time": "2023-08-29T08:35:34.991755Z"
    }
   },
   "outputs": [],
   "source": [
    "def calc():\n",
    "    a=3\n",
    "    b=5\n",
    "    \n",
    "    def mul_add(x):\n",
    "        return a*x+b\n",
    "    return mul_add"
   ]
  },
  {
   "cell_type": "code",
   "execution_count": 50,
   "id": "18377a39",
   "metadata": {
    "ExecuteTime": {
     "end_time": "2023-08-29T08:35:46.082186Z",
     "start_time": "2023-08-29T08:35:46.071680Z"
    }
   },
   "outputs": [
    {
     "name": "stdout",
     "output_type": "stream",
     "text": [
      "<function calc.<locals>.mul_add at 0x00000225E331F940>\n"
     ]
    }
   ],
   "source": [
    "c=calc()\n",
    "print(c)"
   ]
  },
  {
   "cell_type": "code",
   "execution_count": 51,
   "id": "9be3a552",
   "metadata": {
    "ExecuteTime": {
     "end_time": "2023-08-29T08:38:58.537528Z",
     "start_time": "2023-08-29T08:38:58.521173Z"
    }
   },
   "outputs": [],
   "source": [
    "def calc():\n",
    "    a=3\n",
    "    b=5\n",
    "    \n",
    "    return lambda x : a * x + b"
   ]
  },
  {
   "cell_type": "code",
   "execution_count": 52,
   "id": "06b9a24d",
   "metadata": {
    "ExecuteTime": {
     "end_time": "2023-08-29T08:39:10.756533Z",
     "start_time": "2023-08-29T08:39:10.752310Z"
    }
   },
   "outputs": [
    {
     "data": {
      "text/plain": [
       "14"
      ]
     },
     "execution_count": 52,
     "metadata": {},
     "output_type": "execute_result"
    }
   ],
   "source": [
    "c=calc()\n",
    "c(3)"
   ]
  },
  {
   "cell_type": "code",
   "execution_count": null,
   "id": "2d4e31eb",
   "metadata": {},
   "outputs": [],
   "source": []
  }
 ],
 "metadata": {
  "kernelspec": {
   "display_name": "Python 3",
   "language": "python",
   "name": "python3"
  },
  "language_info": {
   "codemirror_mode": {
    "name": "ipython",
    "version": 3
   },
   "file_extension": ".py",
   "mimetype": "text/x-python",
   "name": "python",
   "nbconvert_exporter": "python",
   "pygments_lexer": "ipython3",
   "version": "3.8.8"
  },
  "toc": {
   "base_numbering": 1,
   "nav_menu": {},
   "number_sections": true,
   "sideBar": true,
   "skip_h1_title": false,
   "title_cell": "Table of Contents",
   "title_sidebar": "Contents",
   "toc_cell": false,
   "toc_position": {},
   "toc_section_display": true,
   "toc_window_display": false
  }
 },
 "nbformat": 4,
 "nbformat_minor": 5
}

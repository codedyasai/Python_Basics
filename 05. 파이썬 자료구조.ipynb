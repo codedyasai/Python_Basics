{
 "cells": [
  {
   "cell_type": "markdown",
   "id": "d200cd1e",
   "metadata": {},
   "source": [
    "# 리스트(List)\n",
    "\n",
    "- 임의의 객체를 순차적으로 저장하고 집합적 자료형(시퀀스 자료형, sequence dataType)\n",
    "- 1차원 배열 : 크기가 정해져 있지 않은 배열\n",
    "- 각 값에 인덱스가 부여된다.(인덱스의 시작은 0부터다)\n",
    "- 값을 변경할 수 있다.\n",
    "- 생성 : []\n",
    "- 대표적인 함수 : range(), seq()\n",
    "                - range(1, 10) : 1부터 1씩 증가해서 10-1까지 순차적인 값을 생성하는 함수\n",
    "                - range(10) : 0부터 10-1까지 순차적으로 값을 생성"
   ]
  },
  {
   "cell_type": "markdown",
   "id": "e4a9131c",
   "metadata": {},
   "source": [
    "## 리스트 생성"
   ]
  },
  {
   "cell_type": "code",
   "execution_count": 1,
   "id": "e77f463d",
   "metadata": {
    "ExecuteTime": {
     "end_time": "2023-08-22T07:40:37.554429Z",
     "start_time": "2023-08-22T07:40:37.547238Z"
    }
   },
   "outputs": [
    {
     "name": "stdout",
     "output_type": "stream",
     "text": [
      "[]\n",
      "[]\n"
     ]
    }
   ],
   "source": [
    "# 빈 리스트 생성\n",
    "a = []\n",
    "b = list()\n",
    "\n",
    "print(a)\n",
    "print(b) # 둘 다 리스트가 생성됨"
   ]
  },
  {
   "cell_type": "code",
   "execution_count": 2,
   "id": "417da1c4",
   "metadata": {
    "ExecuteTime": {
     "end_time": "2023-08-22T07:43:45.073210Z",
     "start_time": "2023-08-22T07:43:45.058176Z"
    }
   },
   "outputs": [],
   "source": [
    "# 숫자값을 담고 있는 리스트 \n",
    "x = [1,2,3,4,5]\n",
    "y = ['python', 1,2,3]\n",
    "z = [[1,2], 3,4]"
   ]
  },
  {
   "cell_type": "code",
   "execution_count": 3,
   "id": "f0085b93",
   "metadata": {
    "ExecuteTime": {
     "end_time": "2023-08-22T07:43:48.053404Z",
     "start_time": "2023-08-22T07:43:48.032580Z"
    }
   },
   "outputs": [
    {
     "data": {
      "text/plain": [
       "[1, 2, 3, 4, 5]"
      ]
     },
     "execution_count": 3,
     "metadata": {},
     "output_type": "execute_result"
    }
   ],
   "source": [
    "x"
   ]
  },
  {
   "cell_type": "code",
   "execution_count": 4,
   "id": "386c018e",
   "metadata": {
    "ExecuteTime": {
     "end_time": "2023-08-22T07:43:50.740404Z",
     "start_time": "2023-08-22T07:43:50.722667Z"
    }
   },
   "outputs": [
    {
     "data": {
      "text/plain": [
       "['python', 1, 2, 3]"
      ]
     },
     "execution_count": 4,
     "metadata": {},
     "output_type": "execute_result"
    }
   ],
   "source": [
    "y # 같이 담을 수 있다"
   ]
  },
  {
   "cell_type": "code",
   "execution_count": 5,
   "id": "b84b4241",
   "metadata": {
    "ExecuteTime": {
     "end_time": "2023-08-22T07:43:52.149345Z",
     "start_time": "2023-08-22T07:43:52.133359Z"
    }
   },
   "outputs": [
    {
     "data": {
      "text/plain": [
       "[[1, 2], 3, 4]"
      ]
     },
     "execution_count": 5,
     "metadata": {},
     "output_type": "execute_result"
    }
   ],
   "source": [
    "z"
   ]
  },
  {
   "cell_type": "code",
   "execution_count": 9,
   "id": "ad173d6e",
   "metadata": {
    "ExecuteTime": {
     "end_time": "2023-08-22T07:46:01.153452Z",
     "start_time": "2023-08-22T07:46:01.136188Z"
    }
   },
   "outputs": [
    {
     "name": "stdout",
     "output_type": "stream",
     "text": [
      "[1, 2, 3, 4, 5]\n"
     ]
    }
   ],
   "source": [
    "# + 와 * \n",
    "a = [1,2]\n",
    "b = [3,4,5]\n",
    "\n",
    "c = a + b\n",
    "\n",
    "print(c)\n"
   ]
  },
  {
   "cell_type": "markdown",
   "id": "ede971da",
   "metadata": {
    "ExecuteTime": {
     "end_time": "2023-08-22T07:46:20.922556Z",
     "start_time": "2023-08-22T07:46:20.912556Z"
    }
   },
   "source": [
    "## 리스트의 인덱싱과 슬라이싱\n"
   ]
  },
  {
   "cell_type": "code",
   "execution_count": 13,
   "id": "7819ac5c",
   "metadata": {
    "ExecuteTime": {
     "end_time": "2023-08-22T07:51:16.958252Z",
     "start_time": "2023-08-22T07:51:16.951959Z"
    }
   },
   "outputs": [
    {
     "name": "stdout",
     "output_type": "stream",
     "text": [
      "[1, 2, [3, 4, 5], 'ocean']\n"
     ]
    }
   ],
   "source": [
    "a = [1,2,[3,4,5], 'ocean']\n",
    "print(a)"
   ]
  },
  {
   "cell_type": "code",
   "execution_count": 19,
   "id": "8f4cacf8",
   "metadata": {
    "ExecuteTime": {
     "end_time": "2023-08-22T07:53:55.377743Z",
     "start_time": "2023-08-22T07:53:55.359433Z"
    }
   },
   "outputs": [
    {
     "name": "stdout",
     "output_type": "stream",
     "text": [
      "1\n",
      "ocean\n",
      "[3, 4, 5]\n",
      "4\n",
      "e\n"
     ]
    }
   ],
   "source": [
    "print(a[0]) # 1\n",
    "print(a[-1])\n",
    "print(a[2])\n",
    "print(a[2][1])\n",
    "print(a[3][2])"
   ]
  },
  {
   "cell_type": "code",
   "execution_count": 22,
   "id": "c6687e6e",
   "metadata": {
    "ExecuteTime": {
     "end_time": "2023-08-22T07:58:02.175276Z",
     "start_time": "2023-08-22T07:58:02.168259Z"
    }
   },
   "outputs": [
    {
     "name": "stdout",
     "output_type": "stream",
     "text": [
      "[1, 2]\n",
      "[4, 5]\n"
     ]
    }
   ],
   "source": [
    "print(a[ : 2 ])\n",
    "print(a[2][1:])"
   ]
  },
  {
   "cell_type": "markdown",
   "id": "75cca3d9",
   "metadata": {},
   "source": [
    "## 리스트의 변경, 삭제"
   ]
  },
  {
   "cell_type": "code",
   "execution_count": 25,
   "id": "789a305d",
   "metadata": {
    "ExecuteTime": {
     "end_time": "2023-08-22T08:00:57.296998Z",
     "start_time": "2023-08-22T08:00:57.282973Z"
    }
   },
   "outputs": [
    {
     "data": {
      "text/plain": [
       "[1, 2, -100, 4, 5]"
      ]
     },
     "execution_count": 25,
     "metadata": {},
     "output_type": "execute_result"
    }
   ],
   "source": [
    "a = [1,2,3,4,5]\n",
    "\n",
    "a[2] = -100\n",
    "\n",
    "print(a)"
   ]
  },
  {
   "cell_type": "code",
   "execution_count": 29,
   "id": "71a637e7",
   "metadata": {
    "ExecuteTime": {
     "end_time": "2023-08-22T08:02:57.717713Z",
     "start_time": "2023-08-22T08:02:57.708959Z"
    }
   },
   "outputs": [
    {
     "name": "stdout",
     "output_type": "stream",
     "text": [
      "[1, 'man', 'tired', 3]\n"
     ]
    }
   ],
   "source": [
    "a = [1,2,3]\n",
    "\n",
    "a[1:2] = ['man', 'tired']\n",
    "\n",
    "print(a)"
   ]
  },
  {
   "cell_type": "code",
   "execution_count": 30,
   "id": "dd7a6966",
   "metadata": {
    "ExecuteTime": {
     "end_time": "2023-08-22T08:10:31.683673Z",
     "start_time": "2023-08-22T08:10:31.674704Z"
    }
   },
   "outputs": [
    {
     "name": "stdout",
     "output_type": "stream",
     "text": [
      "a :  [10, 2, 3, 4, 5]\n",
      "b :  [10, 2, 3, 4, 5]\n"
     ]
    }
   ],
   "source": [
    "# 파이썬의 메모리 관리 방식\n",
    "# 리스트(List) : 1차원 배열\n",
    "## 깊은복사와 얕은복사\n",
    "\n",
    "a = [1,2,3,4,5]\n",
    "b = a # a가 가리키는 것은 주소, b는 a의 주소를 참조(얕은복사)\n",
    "\n",
    "b[0]= 10\n",
    "\n",
    "print(\"a : \", a)\n",
    "print(\"b : \", b)"
   ]
  },
  {
   "cell_type": "code",
   "execution_count": 31,
   "id": "3f728172",
   "metadata": {
    "ExecuteTime": {
     "end_time": "2023-08-22T08:12:20.884375Z",
     "start_time": "2023-08-22T08:12:20.871464Z"
    }
   },
   "outputs": [
    {
     "name": "stdout",
     "output_type": "stream",
     "text": [
      "1922453972032\n",
      "1922453972032\n"
     ]
    }
   ],
   "source": [
    "# id() : 주소를 반환하는 함수\n",
    "\n",
    "print(id(a))\n",
    "print(id(b))"
   ]
  },
  {
   "cell_type": "code",
   "execution_count": 32,
   "id": "d127133c",
   "metadata": {
    "ExecuteTime": {
     "end_time": "2023-08-22T08:13:44.237618Z",
     "start_time": "2023-08-22T08:13:44.225825Z"
    }
   },
   "outputs": [
    {
     "name": "stdout",
     "output_type": "stream",
     "text": [
      "a :  [1, 2, 3, 4, 5]\n",
      "b :  [10, 2, 3, 4, 5]\n"
     ]
    }
   ],
   "source": [
    "a = [1,2,3,4,5]\n",
    "\n",
    "b = a[:] # 주소가 아니라 값을 복사한 것. \n",
    "         # 깊은 복사\n",
    "    \n",
    "b[0] =10\n",
    "\n",
    "\n",
    "print(\"a : \", a)\n",
    "print(\"b : \", b)"
   ]
  },
  {
   "cell_type": "code",
   "execution_count": 36,
   "id": "83c4e643",
   "metadata": {
    "ExecuteTime": {
     "end_time": "2023-08-22T08:15:57.419283Z",
     "start_time": "2023-08-22T08:15:57.408327Z"
    }
   },
   "outputs": [
    {
     "name": "stdout",
     "output_type": "stream",
     "text": [
      "[1, [], 3]\n"
     ]
    }
   ],
   "source": [
    "# 삭제\n",
    "\n",
    "a = [1,2,3]\n",
    "\n",
    "a[1:2] = []\n",
    "\n",
    "print(a)"
   ]
  },
  {
   "cell_type": "code",
   "execution_count": 38,
   "id": "1bdb03d5",
   "metadata": {
    "ExecuteTime": {
     "end_time": "2023-08-22T08:17:12.017989Z",
     "start_time": "2023-08-22T08:17:11.998495Z"
    }
   },
   "outputs": [
    {
     "name": "stdout",
     "output_type": "stream",
     "text": [
      "[1]\n",
      "[1, 3]\n"
     ]
    }
   ],
   "source": [
    "a = [1,2,3]\n",
    "\n",
    "# del명령어\n",
    "\n",
    "del a[1]\n",
    "\n",
    "print(a)"
   ]
  },
  {
   "cell_type": "markdown",
   "id": "d066902a",
   "metadata": {},
   "source": [
    "## 리스트 관련 함수"
   ]
  },
  {
   "cell_type": "code",
   "execution_count": 39,
   "id": "4def928e",
   "metadata": {
    "ExecuteTime": {
     "end_time": "2023-08-22T08:19:31.932066Z",
     "start_time": "2023-08-22T08:19:31.924070Z"
    }
   },
   "outputs": [
    {
     "name": "stdout",
     "output_type": "stream",
     "text": [
      "[1, 2, 3, 4, 5, 6]\n"
     ]
    }
   ],
   "source": [
    "# append() : 리스트의 맨 뒤에 추가\n",
    "a = [1,2,3,4,5]\n",
    "\n",
    "a.append(6)\n",
    "\n",
    "print(a)"
   ]
  },
  {
   "cell_type": "code",
   "execution_count": 40,
   "id": "1b271dde",
   "metadata": {
    "ExecuteTime": {
     "end_time": "2023-08-22T08:20:29.444114Z",
     "start_time": "2023-08-22T08:20:29.427350Z"
    }
   },
   "outputs": [
    {
     "name": "stdout",
     "output_type": "stream",
     "text": [
      "[1, 2, 3, 4, 5]\n"
     ]
    }
   ],
   "source": [
    "a = [1,2]\n",
    "b = [3,4,5]\n",
    "\n",
    "print(a + b) # append"
   ]
  },
  {
   "cell_type": "code",
   "execution_count": 41,
   "id": "492a8259",
   "metadata": {
    "ExecuteTime": {
     "end_time": "2023-08-22T08:20:55.826648Z",
     "start_time": "2023-08-22T08:20:55.818890Z"
    }
   },
   "outputs": [
    {
     "name": "stdout",
     "output_type": "stream",
     "text": [
      "[1, 2, [3, 4, 5]]\n"
     ]
    }
   ],
   "source": [
    "a.append([3,4,5])\n",
    "\n",
    "print(a)"
   ]
  },
  {
   "cell_type": "code",
   "execution_count": 42,
   "id": "33f524ea",
   "metadata": {
    "ExecuteTime": {
     "end_time": "2023-08-22T08:22:19.703676Z",
     "start_time": "2023-08-22T08:22:19.692199Z"
    }
   },
   "outputs": [
    {
     "name": "stdout",
     "output_type": "stream",
     "text": [
      "[1, 2, 3, 4, 5]\n"
     ]
    }
   ],
   "source": [
    "# extend : 리스트의 뒤에 여러개의 값을 추가하는 함수\n",
    "\n",
    "a = [1,2]\n",
    "a. extend([3,4,5])\n",
    "\n",
    "print(a)"
   ]
  },
  {
   "cell_type": "code",
   "execution_count": 45,
   "id": "9e678122",
   "metadata": {
    "ExecuteTime": {
     "end_time": "2023-08-22T08:24:29.611606Z",
     "start_time": "2023-08-22T08:24:29.605028Z"
    }
   },
   "outputs": [
    {
     "name": "stdout",
     "output_type": "stream",
     "text": [
      "15\n",
      "1\n",
      "5\n"
     ]
    }
   ],
   "source": [
    "# 그 외 다양한 함수들\n",
    "\n",
    "print(sum(a))\n",
    "print(min(a))\n",
    "print(len(a))"
   ]
  },
  {
   "cell_type": "code",
   "execution_count": 49,
   "id": "550224cb",
   "metadata": {
    "ExecuteTime": {
     "end_time": "2023-08-22T08:27:30.935878Z",
     "start_time": "2023-08-22T08:27:30.926058Z"
    }
   },
   "outputs": [
    {
     "name": "stdout",
     "output_type": "stream",
     "text": [
      "[1, 3, 2, 5, 4]\n",
      "[1, 2, 3, 4, 5]\n"
     ]
    }
   ],
   "source": [
    "# sort() : 오름차순 정렬\n",
    "# sort(reverse = True) :  내림차순 정렬\n",
    "\n",
    "a = [1,3,2,5,4]\n",
    "\n",
    "print(a)\n",
    "\n",
    "a.sort()\n",
    "\n",
    "print(a)"
   ]
  },
  {
   "cell_type": "code",
   "execution_count": 50,
   "id": "60581f15",
   "metadata": {
    "ExecuteTime": {
     "end_time": "2023-08-22T08:29:53.654802Z",
     "start_time": "2023-08-22T08:29:53.649953Z"
    }
   },
   "outputs": [
    {
     "name": "stdout",
     "output_type": "stream",
     "text": [
      "[1, 3, 4, 5]\n"
     ]
    }
   ],
   "source": [
    "# remove\n",
    "\n",
    "a  = [1,2,3,4,5]\n",
    "\n",
    "a.remove(2)\n",
    "\n",
    "print(a)\n"
   ]
  },
  {
   "cell_type": "code",
   "execution_count": 1,
   "id": "e54ab1ef",
   "metadata": {
    "ExecuteTime": {
     "end_time": "2023-08-29T06:27:05.125606Z",
     "start_time": "2023-08-29T06:27:05.119577Z"
    }
   },
   "outputs": [
    {
     "name": "stdout",
     "output_type": "stream",
     "text": [
      "[1, 2, 3, 4]\n"
     ]
    }
   ],
   "source": [
    "# pop() : 마지막에 입력된 값을 추출\n",
    "\n",
    "a = [1,2,3,4,5]\n",
    "\n",
    "a.pop()\n",
    "\n",
    "print(a)\n",
    "\n"
   ]
  },
  {
   "cell_type": "code",
   "execution_count": 52,
   "id": "61c9fcb7",
   "metadata": {
    "ExecuteTime": {
     "end_time": "2023-08-22T08:31:18.534746Z",
     "start_time": "2023-08-22T08:31:18.518470Z"
    }
   },
   "outputs": [
    {
     "name": "stdout",
     "output_type": "stream",
     "text": [
      "[2, 3, 4]\n"
     ]
    }
   ],
   "source": [
    "# pop(index)\n",
    "a.pop(0)\n",
    "print(a)"
   ]
  },
  {
   "cell_type": "code",
   "execution_count": 53,
   "id": "92514f41",
   "metadata": {
    "ExecuteTime": {
     "end_time": "2023-08-22T08:32:26.693975Z",
     "start_time": "2023-08-22T08:32:26.681542Z"
    }
   },
   "outputs": [
    {
     "name": "stdout",
     "output_type": "stream",
     "text": [
      "[1, 2, 3, 4, 5]\n",
      "[]\n"
     ]
    }
   ],
   "source": [
    "# clear() : 리스트의 모든 요소 제거\n",
    "\n",
    "a = [1,2,3,4,5]\n",
    "print(a)\n",
    "a.clear()\n",
    "print(a)"
   ]
  },
  {
   "cell_type": "code",
   "execution_count": 54,
   "id": "98e9f691",
   "metadata": {
    "ExecuteTime": {
     "end_time": "2023-08-22T08:33:53.557294Z",
     "start_time": "2023-08-22T08:33:53.545373Z"
    }
   },
   "outputs": [
    {
     "data": {
      "text/plain": [
       "2"
      ]
     },
     "execution_count": 54,
     "metadata": {},
     "output_type": "execute_result"
    }
   ],
   "source": [
    "a = [1,1,2,2,2,3,3,3,3,4,4,4,4,4,5,5,5,5,5]\n",
    "\n",
    "a.count(1) # 1의 갯수가 몇개냐\n",
    "\n"
   ]
  },
  {
   "cell_type": "markdown",
   "id": "471b1005",
   "metadata": {},
   "source": [
    "# 튜플(Tuple)\n",
    "\n",
    "- 리스트와 유사한 자료구조. 단 , 변경이 불가능하다.\n",
    "- 읽기전용 자료를 보관할 때 사용\n",
    "- 각 값에 인덱스가 부여된다.\n",
    "- 생성 : (), tuple()\n",
    "- 리스트 관련 함수도 함께 사용 가능"
   ]
  },
  {
   "cell_type": "markdown",
   "id": "4dd3c0c2",
   "metadata": {},
   "source": [
    "## 튜플 생성"
   ]
  },
  {
   "cell_type": "code",
   "execution_count": 55,
   "id": "3e09fb50",
   "metadata": {
    "ExecuteTime": {
     "end_time": "2023-08-22T08:37:16.962518Z",
     "start_time": "2023-08-22T08:37:16.949932Z"
    }
   },
   "outputs": [
    {
     "name": "stdout",
     "output_type": "stream",
     "text": [
      "[1, 2, 3, 4, 5] <class 'list'>\n",
      "(1, 2, 3, 4, 5) <class 'tuple'>\n"
     ]
    }
   ],
   "source": [
    "a = [1,2,3,4,5] # 리스트\n",
    "\n",
    "b = (1,2,3,4,5) # 튜플\n",
    "\n",
    "print(a, type(a))\n",
    "\n",
    "print(b, type(b))"
   ]
  },
  {
   "cell_type": "code",
   "execution_count": 56,
   "id": "bff60aeb",
   "metadata": {
    "ExecuteTime": {
     "end_time": "2023-08-22T08:38:26.327558Z",
     "start_time": "2023-08-22T08:38:26.323703Z"
    }
   },
   "outputs": [
    {
     "name": "stdout",
     "output_type": "stream",
     "text": [
      "(1, 2, 3, 4, 5) <class 'tuple'>\n"
     ]
    }
   ],
   "source": [
    "a = 1,2,3,4,5\n",
    "print (a, type(a)) # 파이썬의 기본 자료구조는 튜플이다"
   ]
  },
  {
   "cell_type": "code",
   "execution_count": 59,
   "id": "8fc46367",
   "metadata": {
    "ExecuteTime": {
     "end_time": "2023-08-22T08:40:05.491887Z",
     "start_time": "2023-08-22T08:40:05.488060Z"
    }
   },
   "outputs": [
    {
     "name": "stdout",
     "output_type": "stream",
     "text": [
      "(2, 3)\n"
     ]
    }
   ],
   "source": [
    "a = (1,2,3,4,5)\n",
    "\n",
    "# [index]\n",
    "\n",
    "# slicing[start : stop]\n",
    "\n",
    "print(a[1:3])\n"
   ]
  },
  {
   "cell_type": "code",
   "execution_count": 60,
   "id": "26d8bff1",
   "metadata": {
    "ExecuteTime": {
     "end_time": "2023-08-22T08:40:58.079029Z",
     "start_time": "2023-08-22T08:40:58.066463Z"
    }
   },
   "outputs": [
    {
     "ename": "TypeError",
     "evalue": "'tuple' object does not support item assignment",
     "output_type": "error",
     "traceback": [
      "\u001b[1;31m---------------------------------------------------------------------------\u001b[0m",
      "\u001b[1;31mTypeError\u001b[0m                                 Traceback (most recent call last)",
      "\u001b[1;32m<ipython-input-60-7c7092ce5bba>\u001b[0m in \u001b[0;36m<module>\u001b[1;34m\u001b[0m\n\u001b[1;32m----> 1\u001b[1;33m \u001b[0ma\u001b[0m\u001b[1;33m[\u001b[0m\u001b[1;36m2\u001b[0m\u001b[1;33m]\u001b[0m \u001b[1;33m=\u001b[0m \u001b[1;36m100\u001b[0m \u001b[1;31m# 에러가난다. 왜냐하면 튜플은 변경이 불가능하기 때문이다.\u001b[0m\u001b[1;33m\u001b[0m\u001b[1;33m\u001b[0m\u001b[0m\n\u001b[0m",
      "\u001b[1;31mTypeError\u001b[0m: 'tuple' object does not support item assignment"
     ]
    }
   ],
   "source": [
    "a[2] = 100 # 에러가난다. 왜냐하면 튜플은 변경이 불가능하기 때문이다.\n",
    "\n",
    "#수정 빼고 나머지는 다 똑같다."
   ]
  },
  {
   "cell_type": "markdown",
   "id": "952bdf6e",
   "metadata": {},
   "source": [
    "# 사전(Dictionary)\n",
    "\n",
    "- 파이썬에서 가장 많이 사용되는 자료구조\n",
    "- 키와 값을 쌍으로 관리하는 자료구조\n",
    "- 키는 중복을 허용하지 않지만 값은 중복을 허용한다.\n",
    "- 순서가 중요하지 않다.\n",
    "- key 를 통해 데이터를 읽어온다.\n",
    "- 생성 : {}, dict()\n",
    "- 주요 함수\n",
    "    - 사전.keys() : key만 추출\n",
    "    - 사전.values() : values만 추출\n",
    "    - 사전.items() : item(key : value) 단위로 추출\n",
    "    - keys(), values(), item()의 결과는 모두 리스트로 반환된다.\n"
   ]
  },
  {
   "cell_type": "markdown",
   "id": "2cbc6357",
   "metadata": {},
   "source": [
    "# 집합(Set)\n",
    "\n",
    "- 인덱스가 없고, 값만 저장되는 자료구조\n",
    "- 순서는 의미가 없다.\n",
    "- 생성 : {}, set()\n",
    "- 콤마를 기준으로 아이템 구분\n",
    "- 중복값을 허용하지 않는다."
   ]
  },
  {
   "cell_type": "code",
   "execution_count": null,
   "id": "348c9c04",
   "metadata": {},
   "outputs": [],
   "source": []
  }
 ],
 "metadata": {
  "kernelspec": {
   "display_name": "Python 3",
   "language": "python",
   "name": "python3"
  },
  "language_info": {
   "codemirror_mode": {
    "name": "ipython",
    "version": 3
   },
   "file_extension": ".py",
   "mimetype": "text/x-python",
   "name": "python",
   "nbconvert_exporter": "python",
   "pygments_lexer": "ipython3",
   "version": "3.8.8"
  },
  "toc": {
   "base_numbering": 1,
   "nav_menu": {},
   "number_sections": true,
   "sideBar": true,
   "skip_h1_title": false,
   "title_cell": "Table of Contents",
   "title_sidebar": "Contents",
   "toc_cell": false,
   "toc_position": {},
   "toc_section_display": true,
   "toc_window_display": false
  },
  "varInspector": {
   "cols": {
    "lenName": 16,
    "lenType": 16,
    "lenVar": 40
   },
   "kernels_config": {
    "python": {
     "delete_cmd_postfix": "",
     "delete_cmd_prefix": "del ",
     "library": "var_list.py",
     "varRefreshCmd": "print(var_dic_list())"
    },
    "r": {
     "delete_cmd_postfix": ") ",
     "delete_cmd_prefix": "rm(",
     "library": "var_list.r",
     "varRefreshCmd": "cat(var_dic_list()) "
    }
   },
   "types_to_exclude": [
    "module",
    "function",
    "builtin_function_or_method",
    "instance",
    "_Feature"
   ],
   "window_display": false
  }
 },
 "nbformat": 4,
 "nbformat_minor": 5
}

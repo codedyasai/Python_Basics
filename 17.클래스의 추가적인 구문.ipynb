{
 "cells": [
  {
   "cell_type": "markdown",
   "id": "5fe082ad",
   "metadata": {},
   "source": [
    "# isinstance(), 클래스의 변수, 클래스함수"
   ]
  },
  {
   "cell_type": "markdown",
   "id": "f3b8bf63",
   "metadata": {},
   "source": [
    "## 상속 : 부모 클래스로부터 자녀 클래스로 자원을 물려주는 것\n",
    "- 재활용 극대화하는 목적으로 구현된다"
   ]
  },
  {
   "cell_type": "code",
   "execution_count": 1,
   "id": "1fd4b6e0",
   "metadata": {
    "ExecuteTime": {
     "end_time": "2023-08-30T00:09:48.795471Z",
     "start_time": "2023-08-30T00:09:48.780510Z"
    }
   },
   "outputs": [],
   "source": [
    "# isinstance() : 해당 객체가 어떤 클래스로부터 만들어졌는지 확인하는 메서드\n",
    "class Student:\n",
    "    def __init__(self):\n",
    "        pass"
   ]
  },
  {
   "cell_type": "code",
   "execution_count": 3,
   "id": "ee4cfbb3",
   "metadata": {
    "ExecuteTime": {
     "end_time": "2023-08-30T00:10:20.952618Z",
     "start_time": "2023-08-30T00:10:20.948609Z"
    }
   },
   "outputs": [],
   "source": [
    "s=Student()"
   ]
  },
  {
   "cell_type": "code",
   "execution_count": 4,
   "id": "1a537d87",
   "metadata": {
    "ExecuteTime": {
     "end_time": "2023-08-30T00:11:00.449360Z",
     "start_time": "2023-08-30T00:11:00.441986Z"
    }
   },
   "outputs": [
    {
     "name": "stdout",
     "output_type": "stream",
     "text": [
      "isinstance(s,Student) :  True\n"
     ]
    }
   ],
   "source": [
    "print('isinstance(s,Student) : ',isinstance(s,Student))"
   ]
  },
  {
   "cell_type": "code",
   "execution_count": 5,
   "id": "99d71dee",
   "metadata": {
    "ExecuteTime": {
     "end_time": "2023-08-30T00:12:44.069203Z",
     "start_time": "2023-08-30T00:12:44.054170Z"
    }
   },
   "outputs": [],
   "source": [
    "class Student:\n",
    "    def study(self):\n",
    "        print('공부함')\n",
    "        \n",
    "class Teacher:\n",
    "    def teach(self):\n",
    "        print('가르침')"
   ]
  },
  {
   "cell_type": "code",
   "execution_count": 7,
   "id": "5b6286eb",
   "metadata": {
    "ExecuteTime": {
     "end_time": "2023-08-30T00:14:50.586903Z",
     "start_time": "2023-08-30T00:14:50.569256Z"
    }
   },
   "outputs": [],
   "source": [
    "# 컨테이너 객체 : 여러 개의 데이터를 담는 자료구조, 리스트, 튜플, 사전, 집합...\n",
    "classroom=[Student(),Student(),Teacher(),Teacher()]"
   ]
  },
  {
   "cell_type": "code",
   "execution_count": 11,
   "id": "459df0d7",
   "metadata": {
    "ExecuteTime": {
     "end_time": "2023-08-30T00:17:31.619791Z",
     "start_time": "2023-08-30T00:17:31.607898Z"
    }
   },
   "outputs": [
    {
     "name": "stdout",
     "output_type": "stream",
     "text": [
      "공부함\n",
      "공부함\n",
      "가르침\n",
      "가르침\n"
     ]
    }
   ],
   "source": [
    "for obj in classroom:\n",
    "    if isinstance(obj,Student):\n",
    "        obj.study()\n",
    "    elif isinstance(obj,Teacher):\n",
    "        obj.teach()"
   ]
  },
  {
   "cell_type": "markdown",
   "id": "9e117051",
   "metadata": {},
   "source": [
    "## tostring(): 문자열을 반환할 목적으로 구현하는 메서드-자바\n",
    "- __str__() \n",
    "- __init__(): 생성자 메서드\n",
    "- __del__(): 소멸자 메서드\n",
    "- 특수한 상황에 자동으로 호출되도록 만들어진 메서드"
   ]
  },
  {
   "cell_type": "code",
   "execution_count": 12,
   "id": "c214478f",
   "metadata": {
    "ExecuteTime": {
     "end_time": "2023-08-30T00:30:04.587069Z",
     "start_time": "2023-08-30T00:30:04.571449Z"
    }
   },
   "outputs": [],
   "source": [
    "class Student:\n",
    "    # 멤버 필드\n",
    "    \n",
    "    #생성자 메서드\n",
    "    def __init__(self,name,kor,eng,math):\n",
    "        self.name=name\n",
    "        self.kor=kor\n",
    "        self.eng=eng\n",
    "        self.math=math        \n",
    "    #멤버 메서드\n",
    "    ## 총점을 계산하여 반환하는 메서드\n",
    "    def get_sum(self):\n",
    "        return self.kor + self.eng + self.math\n",
    "    \n",
    "    ##평균을 계산하여 반환\n",
    "    def get_avg(self):\n",
    "        return self.get_sum() / 3\n",
    "    \n",
    "    ## 출력할 메서드\n",
    "    def disp(self):\n",
    "        return '{}\\t{}\\t{}'.format(self.name,self.get_sum(),self.get_avg())\n",
    "    def __str__(self):\n",
    "        return '{}\\t{}\\t{}'.format(self.name,self.get_sum(),self.get_avg())\n",
    "    #소멸자 메서드\n",
    "    def __del__(self):\n",
    "        pass\n",
    "    "
   ]
  },
  {
   "cell_type": "code",
   "execution_count": 23,
   "id": "5c74f8fd",
   "metadata": {
    "ExecuteTime": {
     "end_time": "2023-08-30T00:39:32.929836Z",
     "start_time": "2023-08-30T00:39:32.920511Z"
    }
   },
   "outputs": [
    {
     "name": "stdout",
     "output_type": "stream",
     "text": [
      "이름\t총점\t평균\n",
      "aaa\t268\t89.33333333333333\n",
      "<class '__main__.Student'>\n",
      "bbb\t278\t92.66666666666667\n",
      "<class '__main__.Student'>\n",
      "ccc\t262\t87.33333333333333\n",
      "<class '__main__.Student'>\n",
      "ddd\t168\t56.0\n",
      "<class '__main__.Student'>\n",
      "eee\t212\t70.66666666666667\n",
      "<class '__main__.Student'>\n"
     ]
    }
   ],
   "source": [
    "students = [Student('aaa',80,90,98),Student('bbb',78,100,100),\n",
    "            Student('ccc',85,88,89),\n",
    "            Student('ddd',34,56,78),\n",
    "            Student('eee',67,87,58)\n",
    "]\n",
    "\n",
    "print('이름','총점','평균', sep='\\t')\n",
    "for stu in students:\n",
    "    print(stu.disp())\n",
    "    print(str(Student)) # student.__str()호출 \n",
    "    "
   ]
  },
  {
   "cell_type": "markdown",
   "id": "ed1609b5",
   "metadata": {},
   "source": [
    "## 특수 메서드\n",
    "- eq(=equal) : 같다\n",
    "- ne(not equal) : 다르다\n",
    "- gt(greater than) : 크다\n",
    "- ge(greater than equal) : 크거나 같다\n",
    "- lt(less than) : 작다\n",
    "- le(less than equal) : 작거나 같다"
   ]
  },
  {
   "cell_type": "code",
   "execution_count": 26,
   "id": "62822b7c",
   "metadata": {
    "ExecuteTime": {
     "end_time": "2023-08-30T00:44:11.134123Z",
     "start_time": "2023-08-30T00:44:11.105370Z"
    }
   },
   "outputs": [],
   "source": [
    "class Student:\n",
    "    # 멤버 필드\n",
    "    \n",
    "    #생성자 메서드\n",
    "    def __init__(self,name,kor,eng,math):\n",
    "        self.name=name\n",
    "        self.kor=kor\n",
    "        self.eng=eng\n",
    "        self.math=math        \n",
    "    #멤버 메서드\n",
    "    ## 총점을 계산하여 반환하는 메서드\n",
    "    def get_sum(self):\n",
    "        return self.kor + self.eng + self.math\n",
    "    \n",
    "    ##평균을 계산하여 반환\n",
    "    def get_avg(self):\n",
    "        return self.get_sum() / 3\n",
    "    \n",
    "    ## 출력할 메서드\n",
    "\n",
    "    def __str__(self):\n",
    "        return '{}\\t{}\\t{}'.format(self.name,self.get_sum(),self.get_avg())\n",
    "    #특수목적 메서드\n",
    "    def __eq__(self,value):\n",
    "        return self.get_sum() == value.get_sum()\n",
    "    def __ne__(self,value):\n",
    "        return self.get_sum() != value.get_sum()\n",
    "    def __gt__(self,value):\n",
    "        return self.get_sum() > value.get_sum()\n",
    "    def __ge__(self,value):\n",
    "        return self.get_sum() >= value.get_sum()\n",
    "    def __lt__(self,value):\n",
    "        return self.get_sum() < value.get_sum()\n",
    "    def __le__(self,value):\n",
    "        return self.get_sum() <= value.get_sum()"
   ]
  },
  {
   "cell_type": "code",
   "execution_count": 28,
   "id": "3d9584bb",
   "metadata": {
    "ExecuteTime": {
     "end_time": "2023-08-30T00:46:56.547978Z",
     "start_time": "2023-08-30T00:46:56.529634Z"
    }
   },
   "outputs": [
    {
     "data": {
      "text/plain": [
       "False"
      ]
     },
     "execution_count": 28,
     "metadata": {},
     "output_type": "execute_result"
    }
   ],
   "source": [
    "stu_a = Student('aaa',80,90,98)\n",
    "stu_b = Student('bbb',78,100,100)\n",
    "stu_a==stu_b"
   ]
  },
  {
   "cell_type": "markdown",
   "id": "7ab01de7",
   "metadata": {},
   "source": [
    "## 클래스 변수와 클래스 메서드"
   ]
  },
  {
   "cell_type": "markdown",
   "id": "48b5ff5d",
   "metadata": {},
   "source": [
    "<code>\n",
    "class 클래스이름:\n",
    "    클래스변수 = 값\n",
    "클래스이름.클래스변수()</code>"
   ]
  },
  {
   "cell_type": "code",
   "execution_count": 43,
   "id": "7262b411",
   "metadata": {
    "ExecuteTime": {
     "end_time": "2023-08-30T01:07:40.177511Z",
     "start_time": "2023-08-30T01:07:40.161846Z"
    }
   },
   "outputs": [],
   "source": [
    "class Student:\n",
    "    # 멤버 필드 : 클래스 변수\n",
    "    count=0 #학생수를 카운트\n",
    "    \n",
    "    #생성자 메서드\n",
    "    def __init__(self,name,kor,eng,math):\n",
    "        self.name=name\n",
    "        self.kor=kor\n",
    "        self.eng=eng\n",
    "        self.math=math        \n",
    "        #클래스 변수의 값 설정\n",
    "        Student.count += 1\n",
    "        print('{}번째 학생 생성됨'.format(Student.count))\n",
    "    #멤버 메서드\n",
    "    ## 총점을 계산하여 반환하는 메서드\n",
    "    def get_sum(self):\n",
    "        return self.kor + self.eng + self.math\n",
    "    \n",
    "    ##평균을 계산하여 반환\n",
    "    def get_avg(self):\n",
    "        return self.get_sum() / 3\n",
    "    \n",
    "    ## 출력할 메서드\n",
    "\n",
    "    def __str__(self):\n",
    "        return '{}\\t{}\\t{}'.format(self.name,self.get_sum(),self.get_avg())\n"
   ]
  },
  {
   "cell_type": "code",
   "execution_count": 44,
   "id": "8f0d8768",
   "metadata": {
    "ExecuteTime": {
     "end_time": "2023-08-30T01:20:22.422343Z",
     "start_time": "2023-08-30T01:20:22.412345Z"
    }
   },
   "outputs": [],
   "source": [
    "# 데코레이터\n",
    "\n",
    "class Student:\n",
    "    # 멤버 필드 : 클래스 변수\n",
    "    count=0 #학생수를 카운트\n",
    "    students=[]\n",
    "    \n",
    "    @classmethod\n",
    "    def print(cls):\n",
    "        print('------------')\n",
    "        print('이름','총점','평균',sep='\\t')\n",
    "        for student in cls.students:\n",
    "            print(str(student))\n",
    "        print('------------')\n",
    "    \n",
    "    #생성자 메서드\n",
    "    def __init__(self,name,kor,eng,math):\n",
    "        self.name=name\n",
    "        self.kor=kor\n",
    "        self.eng=eng\n",
    "        self.math=math       \n",
    "        \n",
    "        Student.students.append(self)\n",
    "        #클래스 변수의 값 설정\n",
    "\n",
    "    #멤버 메서드\n",
    "    ## 총점을 계산하여 반환하는 메서드\n",
    "    def get_sum(self):\n",
    "        return self.kor + self.eng + self.math\n",
    "    \n",
    "    ##평균을 계산하여 반환\n",
    "    def get_avg(self):\n",
    "        return self.get_sum() / 3\n",
    "    \n",
    "    ## 출력할 메서드\n",
    "\n",
    "    def __str__(self):\n",
    "        return '{}\\t{}\\t{}'.format(self.name,self.get_sum(),self.get_avg())\n",
    "\n"
   ]
  },
  {
   "cell_type": "code",
   "execution_count": 45,
   "id": "3020392c",
   "metadata": {
    "ExecuteTime": {
     "end_time": "2023-08-30T01:20:25.078215Z",
     "start_time": "2023-08-30T01:20:25.071100Z"
    }
   },
   "outputs": [
    {
     "name": "stdout",
     "output_type": "stream",
     "text": [
      "------------\n",
      "이름\t총점\t평균\n",
      "aaa\t268\t89.33333333333333\n",
      "bbb\t278\t92.66666666666667\n",
      "ccc\t262\t87.33333333333333\n",
      "ddd\t168\t56.0\n",
      "eee\t212\t70.66666666666667\n",
      "------------\n"
     ]
    }
   ],
   "source": [
    "Student('aaa',80,90,98)\n",
    "Student('bbb',78,100,100)\n",
    "Student('ccc',85,88,89)\n",
    "Student('ddd',34,56,78)\n",
    "Student('eee',67,87,58)\n",
    "\n",
    "Student.print()"
   ]
  },
  {
   "cell_type": "markdown",
   "id": "fc033869",
   "metadata": {},
   "source": [
    "# 프라이빗 변수와 getter / setter 메서드"
   ]
  },
  {
   "cell_type": "code",
   "execution_count": 57,
   "id": "a1f96b49",
   "metadata": {
    "ExecuteTime": {
     "end_time": "2023-08-30T01:34:18.323998Z",
     "start_time": "2023-08-30T01:34:18.316965Z"
    }
   },
   "outputs": [],
   "source": [
    "# 모듈\n",
    "import math as m\n",
    "\n",
    "# 원을추상화\n",
    "class Circle:\n",
    "    def __init__(self,r):\n",
    "        self.__r=r\n",
    "        \n",
    "    def get_area(self):\n",
    "        return (self.__r ** 2) * m.pi\n",
    "    def get_side(self):\n",
    "        return 2 * m.pi * self.__r\n",
    "    \n",
    "    # getter setter private한 변수에 접근을 하기 위한 목적으로 구현하는 메서드\n",
    "    @property\n",
    "    def get_r(self):\n",
    "        return self.__r\n",
    "    @property\n",
    "    def set_r(self,r):\n",
    "        self.__r=r\n",
    "        "
   ]
  },
  {
   "cell_type": "code",
   "execution_count": 58,
   "id": "d8518b76",
   "metadata": {
    "ExecuteTime": {
     "end_time": "2023-08-30T01:34:23.055821Z",
     "start_time": "2023-08-30T01:34:23.046822Z"
    }
   },
   "outputs": [
    {
     "name": "stdout",
     "output_type": "stream",
     "text": [
      "원의 둘레 :  62.83185307179586\n",
      "원의 면적 :  314.1592653589793\n"
     ]
    },
    {
     "ename": "AttributeError",
     "evalue": "'Circle' object has no attribute 'r'",
     "output_type": "error",
     "traceback": [
      "\u001b[1;31m---------------------------------------------------------------------------\u001b[0m",
      "\u001b[1;31mAttributeError\u001b[0m                            Traceback (most recent call last)",
      "\u001b[1;32m<ipython-input-58-0019eaf92717>\u001b[0m in \u001b[0;36m<module>\u001b[1;34m\u001b[0m\n\u001b[0;32m      2\u001b[0m \u001b[0mprint\u001b[0m\u001b[1;33m(\u001b[0m\u001b[1;34m'원의 둘레 : '\u001b[0m\u001b[1;33m,\u001b[0m\u001b[0map\u001b[0m\u001b[1;33m.\u001b[0m\u001b[0mget_side\u001b[0m\u001b[1;33m(\u001b[0m\u001b[1;33m)\u001b[0m\u001b[1;33m)\u001b[0m\u001b[1;33m\u001b[0m\u001b[1;33m\u001b[0m\u001b[0m\n\u001b[0;32m      3\u001b[0m \u001b[0mprint\u001b[0m\u001b[1;33m(\u001b[0m\u001b[1;34m'원의 면적 : '\u001b[0m\u001b[1;33m,\u001b[0m\u001b[0map\u001b[0m\u001b[1;33m.\u001b[0m\u001b[0mget_area\u001b[0m\u001b[1;33m(\u001b[0m\u001b[1;33m)\u001b[0m\u001b[1;33m)\u001b[0m\u001b[1;33m\u001b[0m\u001b[1;33m\u001b[0m\u001b[0m\n\u001b[1;32m----> 4\u001b[1;33m \u001b[0mprint\u001b[0m\u001b[1;33m(\u001b[0m\u001b[1;34m'반지름 : '\u001b[0m\u001b[1;33m,\u001b[0m\u001b[0map\u001b[0m\u001b[1;33m.\u001b[0m\u001b[0mr\u001b[0m\u001b[1;33m)\u001b[0m\u001b[1;33m\u001b[0m\u001b[1;33m\u001b[0m\u001b[0m\n\u001b[0m",
      "\u001b[1;31mAttributeError\u001b[0m: 'Circle' object has no attribute 'r'"
     ]
    }
   ],
   "source": [
    "ap = Circle(10)\n",
    "print('원의 둘레 : ',ap.get_side())\n",
    "print('원의 면적 : ',ap.get_area())\n",
    "print('반지름 : ',ap.r)"
   ]
  },
  {
   "cell_type": "code",
   "execution_count": 59,
   "id": "0cd4a09e",
   "metadata": {
    "ExecuteTime": {
     "end_time": "2023-08-30T01:34:33.994824Z",
     "start_time": "2023-08-30T01:34:33.980892Z"
    }
   },
   "outputs": [
    {
     "name": "stdout",
     "output_type": "stream",
     "text": [
      "반지름 :  10\n"
     ]
    }
   ],
   "source": [
    "print('반지름 : ',ap.get_r())"
   ]
  },
  {
   "cell_type": "code",
   "execution_count": 60,
   "id": "4c1c8dee",
   "metadata": {
    "ExecuteTime": {
     "end_time": "2023-08-30T01:34:53.000517Z",
     "start_time": "2023-08-30T01:34:52.991518Z"
    }
   },
   "outputs": [
    {
     "name": "stdout",
     "output_type": "stream",
     "text": [
      "반지름 :  5\n"
     ]
    }
   ],
   "source": [
    "ap.set_r(5)\n",
    "print('반지름 : ',ap.get_r())"
   ]
  },
  {
   "cell_type": "code",
   "execution_count": null,
   "id": "55841ca5",
   "metadata": {},
   "outputs": [],
   "source": []
  }
 ],
 "metadata": {
  "kernelspec": {
   "display_name": "Python 3",
   "language": "python",
   "name": "python3"
  },
  "language_info": {
   "codemirror_mode": {
    "name": "ipython",
    "version": 3
   },
   "file_extension": ".py",
   "mimetype": "text/x-python",
   "name": "python",
   "nbconvert_exporter": "python",
   "pygments_lexer": "ipython3",
   "version": "3.8.8"
  },
  "toc": {
   "base_numbering": 1,
   "nav_menu": {},
   "number_sections": true,
   "sideBar": true,
   "skip_h1_title": false,
   "title_cell": "Table of Contents",
   "title_sidebar": "Contents",
   "toc_cell": false,
   "toc_position": {
    "height": "417.76px",
    "left": "43px",
    "top": "110.21px",
    "width": "245.76px"
   },
   "toc_section_display": true,
   "toc_window_display": true
  }
 },
 "nbformat": 4,
 "nbformat_minor": 5
}

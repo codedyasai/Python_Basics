{
 "cells": [
  {
   "cell_type": "markdown",
   "id": "9d4dbc09",
   "metadata": {},
   "source": [
    "# 기본문법\n",
    "## 파이썬 표준 라이브러리 문서\n",
    "https://docs.python.org/3/library/index.html"
   ]
  },
  {
   "cell_type": "markdown",
   "id": "6c3c87a9",
   "metadata": {},
   "source": [
    "## 예약어(keyword)\n",
    "\n",
    "- 파이썬에서 이미 문법적인 용도가 정해져있는 단어들\n",
    "- 식별자(변수명, 함수명, 객체명...)로 사용할 수 없다.\n",
    "- 예약어를 식별자로 사용하면 에러는 발생하지 않지만 고유기능이 사라진다.\n",
    "- 종결자(;)가 있지만 파이썬은 없다. 단, 사용해도 에러는 아니다."
   ]
  },
  {
   "cell_type": "code",
   "execution_count": 2,
   "id": "529a784d",
   "metadata": {
    "ExecuteTime": {
     "end_time": "2023-08-22T00:22:29.296248Z",
     "start_time": "2023-08-22T00:22:29.284872Z"
    }
   },
   "outputs": [],
   "source": [
    "# 파이썬에 등록된 예약어 목록을 확인하는 작업\n",
    "## 파이썬의 예약어 모듈 추가하는 작업\n",
    "\n",
    "import keyword"
   ]
  },
  {
   "cell_type": "code",
   "execution_count": 3,
   "id": "2546ff85",
   "metadata": {
    "ExecuteTime": {
     "end_time": "2023-08-22T00:24:09.426829Z",
     "start_time": "2023-08-22T00:24:09.422693Z"
    }
   },
   "outputs": [
    {
     "name": "stdout",
     "output_type": "stream",
     "text": [
      "['False', 'None', 'True', 'and', 'as', 'assert', 'async', 'await', 'break', 'class', 'continue', 'def', 'del', 'elif', 'else', 'except', 'finally', 'for', 'from', 'global', 'if', 'import', 'in', 'is', 'lambda', 'nonlocal', 'not', 'or', 'pass', 'raise', 'return', 'try', 'while', 'with', 'yield']\n"
     ]
    }
   ],
   "source": [
    "# 예약어 목록을 출력\n",
    "##해당 패키지의 명령어 사용법: .(direct 연산자)\n",
    "print(keyword.kwlist)\n"
   ]
  },
  {
   "cell_type": "code",
   "execution_count": 4,
   "id": "fc9e46ba",
   "metadata": {
    "ExecuteTime": {
     "end_time": "2023-08-22T00:25:33.839041Z",
     "start_time": "2023-08-22T00:25:33.835074Z"
    }
   },
   "outputs": [
    {
     "name": "stdout",
     "output_type": "stream",
     "text": [
      "35\n"
     ]
    }
   ],
   "source": [
    "# 개수 : len(리스트)\n",
    "print(len(keyword.kwlist))"
   ]
  },
  {
   "cell_type": "markdown",
   "id": "9752dc48",
   "metadata": {},
   "source": [
    "## 들여쓰기와 공백\n",
    "\n",
    "- 들여쓰기(Indent) : 파이썬에서 공백문자 4칸의 의미를 가진다\n"
   ]
  },
  {
   "cell_type": "code",
   "execution_count": 5,
   "id": "a3630113",
   "metadata": {
    "ExecuteTime": {
     "end_time": "2023-08-22T00:41:10.058821Z",
     "start_time": "2023-08-22T00:41:10.050292Z"
    }
   },
   "outputs": [
    {
     "name": "stdout",
     "output_type": "stream",
     "text": [
      "0\n",
      "1\n",
      "2\n",
      "3\n",
      "4\n",
      "5\n",
      "6\n",
      "7\n",
      "8\n",
      "9\n"
     ]
    }
   ],
   "source": [
    "for i in range(10):\n",
    "    print(i)"
   ]
  },
  {
   "cell_type": "code",
   "execution_count": null,
   "id": "5be455af",
   "metadata": {},
   "outputs": [],
   "source": [
    "ran"
   ]
  },
  {
   "cell_type": "code",
   "execution_count": 8,
   "id": "a65fdd95",
   "metadata": {
    "ExecuteTime": {
     "end_time": "2023-08-22T00:44:09.839321Z",
     "start_time": "2023-08-22T00:44:09.830365Z"
    }
   },
   "outputs": [],
   "source": [
    "a = 3\n",
    "if a < 2 : \n",
    "    a = 4\n",
    "    print(a) # 이러면 결과값이 안나옴"
   ]
  },
  {
   "cell_type": "code",
   "execution_count": 9,
   "id": "eb5f2a8f",
   "metadata": {
    "ExecuteTime": {
     "end_time": "2023-08-22T00:44:10.555369Z",
     "start_time": "2023-08-22T00:44:10.539255Z"
    }
   },
   "outputs": [
    {
     "name": "stdout",
     "output_type": "stream",
     "text": [
      "3\n"
     ]
    }
   ],
   "source": [
    "a = 3\n",
    "if a < 2 :\n",
    "    a = 4\n",
    "print(a) # if문과 상관없는 것이라 a의 순수값이 출력되는 것"
   ]
  },
  {
   "cell_type": "markdown",
   "id": "5ebabe09",
   "metadata": {},
   "source": [
    "## 2.4 주석(comment)\n",
    "\n",
    "- **이렇게** 하면 글자가 더 굵게 나옴\n",
    "- 기호 '#'"
   ]
  },
  {
   "cell_type": "code",
   "execution_count": 10,
   "id": "25ffabdb",
   "metadata": {
    "ExecuteTime": {
     "end_time": "2023-08-22T00:49:49.835261Z",
     "start_time": "2023-08-22T00:49:49.831633Z"
    }
   },
   "outputs": [
    {
     "data": {
      "text/plain": [
       "'\\n이렇게 하면\\n여러 줄 주석으로 \\n처리가 된다\\n'"
      ]
     },
     "execution_count": 10,
     "metadata": {},
     "output_type": "execute_result"
    }
   ],
   "source": [
    "\"\"\"\n",
    "이렇게 하면\n",
    "여러 줄 주석으로 \n",
    "처리가 된다\n",
    "\"\"\""
   ]
  },
  {
   "cell_type": "code",
   "execution_count": 11,
   "id": "7199e3fa",
   "metadata": {
    "ExecuteTime": {
     "end_time": "2023-08-22T00:50:25.168367Z",
     "start_time": "2023-08-22T00:50:25.155264Z"
    }
   },
   "outputs": [
    {
     "data": {
      "text/plain": [
       "'\\n이것도\\n마찬가지\\n이다\\n'"
      ]
     },
     "execution_count": 11,
     "metadata": {},
     "output_type": "execute_result"
    }
   ],
   "source": [
    "'''\n",
    "이것도\n",
    "마찬가지\n",
    "이다\n",
    "'''"
   ]
  },
  {
   "cell_type": "code",
   "execution_count": 12,
   "id": "2d2ea5c2",
   "metadata": {
    "ExecuteTime": {
     "end_time": "2023-08-22T00:51:31.582273Z",
     "start_time": "2023-08-22T00:51:31.569704Z"
    }
   },
   "outputs": [],
   "source": [
    "# 영역 지정후\n",
    "# Ctrl + / 를 누르면\n",
    "# 일괄적으로 주석처리가 됨"
   ]
  },
  {
   "cell_type": "markdown",
   "id": "fc18369b",
   "metadata": {},
   "source": []
  }
 ],
 "metadata": {
  "kernelspec": {
   "display_name": "Python 3",
   "language": "python",
   "name": "python3"
  },
  "language_info": {
   "codemirror_mode": {
    "name": "ipython",
    "version": 3
   },
   "file_extension": ".py",
   "mimetype": "text/x-python",
   "name": "python",
   "nbconvert_exporter": "python",
   "pygments_lexer": "ipython3",
   "version": "3.8.8"
  },
  "toc": {
   "base_numbering": 1,
   "nav_menu": {
    "height": "440.994px",
    "width": "299.034px"
   },
   "number_sections": true,
   "sideBar": true,
   "skip_h1_title": false,
   "title_cell": "Table of Contents",
   "title_sidebar": "Contents",
   "toc_cell": false,
   "toc_position": {
    "height": "695.455px",
    "left": "42px",
    "top": "-0.653px",
    "width": "165px"
   },
   "toc_section_display": true,
   "toc_window_display": true
  },
  "varInspector": {
   "cols": {
    "lenName": 16,
    "lenType": 16,
    "lenVar": 40
   },
   "kernels_config": {
    "python": {
     "delete_cmd_postfix": "",
     "delete_cmd_prefix": "del ",
     "library": "var_list.py",
     "varRefreshCmd": "print(var_dic_list())"
    },
    "r": {
     "delete_cmd_postfix": ") ",
     "delete_cmd_prefix": "rm(",
     "library": "var_list.r",
     "varRefreshCmd": "cat(var_dic_list()) "
    }
   },
   "types_to_exclude": [
    "module",
    "function",
    "builtin_function_or_method",
    "instance",
    "_Feature"
   ],
   "window_display": false
  }
 },
 "nbformat": 4,
 "nbformat_minor": 5
}

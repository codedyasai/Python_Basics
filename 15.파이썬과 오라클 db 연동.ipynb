{
 "cells": [
  {
   "cell_type": "markdown",
   "id": "fd8aec9a",
   "metadata": {},
   "source": [
    "# python과 DAtabase 연동\n",
    "1. 해당 라이브러리 필요: DB접속 드라이버,cx_Oracle, python-oracledb\n",
    "    - 설치 : Anaconda prompt 창(관리자 권한) pip install 라이브러리이름\n",
    "    - 주피터 노트북 설치: !pip install 설치모듈명\n",
    "    - Anaconda : pip install : 파이썬에 호환이되는 or conda install : 파이썬 전용라이브러리는 아니지만  파이썬에서 쓸수는있는\n",
    "    - pip install orcledb --upgrade : 최근 버전(권장)\n",
    "    - pip install cx_Oracle --upgrade\n",
    "    \n",
    "2. 접속정보 확인\n",
    "    - 사용자 계정과 비밀번호 : scott,1234\n",
    "    - 오라클 url : localhost:1521/xe"
   ]
  },
  {
   "cell_type": "markdown",
   "id": "e1090d90",
   "metadata": {},
   "source": [
    "# DB 연동 작업"
   ]
  },
  {
   "cell_type": "code",
   "execution_count": 1,
   "id": "739ff035",
   "metadata": {
    "ExecuteTime": {
     "end_time": "2023-09-07T16:54:49.263710Z",
     "start_time": "2023-09-07T16:54:49.245851Z"
    }
   },
   "outputs": [],
   "source": [
    "# 라이브러리 임포트\n",
    "import cx_Oracle as cx"
   ]
  },
  {
   "cell_type": "markdown",
   "id": "f563a9f1",
   "metadata": {},
   "source": [
    "## connection : 연결 통로 구축"
   ]
  },
  {
   "cell_type": "code",
   "execution_count": 2,
   "id": "18a82a6e",
   "metadata": {
    "ExecuteTime": {
     "end_time": "2023-09-07T16:54:51.410174Z",
     "start_time": "2023-09-07T16:54:51.312259Z"
    }
   },
   "outputs": [],
   "source": [
    "conn=cx.connect('scott','1234','localhost:1521/xe')\n",
    "# conn=cx.connect('scott/1234/localhost:1521/xe')"
   ]
  },
  {
   "cell_type": "markdown",
   "id": "0f87502f",
   "metadata": {},
   "source": [
    "## db 테이블 조회"
   ]
  },
  {
   "cell_type": "code",
   "execution_count": null,
   "id": "e180c8f9",
   "metadata": {
    "ExecuteTime": {
     "end_time": "2023-09-07T16:45:47.533303Z",
     "start_time": "2023-09-07T16:45:47.516713Z"
    }
   },
   "outputs": [],
   "source": [
    "# cursor() : 레코드셋을 탐색\n",
    "##커서 객체 생성\n",
    "cur=conn.cursor()\n",
    "##쿼리 실행\n",
    "sql='select * from product'\n",
    "## 커서 객체를 이용해 sql 실행\n",
    "cur.execute(sql)\n",
    "\n",
    "for row in cur:\n",
    "    print(row[0], row[1], row[2], end='')\n",
    "    # clob 자료형은 그냥 읽어올수없다\n",
    "    description=row[3].read()\n",
    "    print(description, end='')\n",
    "    print(row[4])"
   ]
  },
  {
   "cell_type": "markdown",
   "id": "592e1bd5",
   "metadata": {},
   "source": [
    "## 전체 레코드 삭제 후 테이블에 레코드 삽입하는 작업"
   ]
  },
  {
   "cell_type": "code",
   "execution_count": null,
   "id": "24cc8081",
   "metadata": {
    "ExecuteTime": {
     "end_time": "2023-09-07T16:45:49.207072Z",
     "start_time": "2023-09-07T16:45:49.191143Z"
    }
   },
   "outputs": [],
   "source": [
    "sql= 'delete from product'\n",
    "cur.execute(sql)\n",
    "conn.commit()"
   ]
  },
  {
   "cell_type": "code",
   "execution_count": null,
   "id": "496a1d03",
   "metadata": {
    "ExecuteTime": {
     "end_time": "2023-09-07T16:36:34.792753Z",
     "start_time": "2023-09-07T16:36:34.774949Z"
    }
   },
   "outputs": [],
   "source": [
    "# 파이썬에서 db에 레코드를 삽입\n",
    "items=[(1, '레몬', 1500, '레몬이다', 'lemon.jpg'),\n",
    "(2, '귤', 2500, '귤이다', 'mandarin.jpg'),\n",
    "(3, '사과', 3500, '사과다', 'apple.jpg'),\n",
    "(4, '포도', 4500,'포도다', 'grape.jpg'),\n",
    "(5, '딸기', 5500, '딸기다', 'strawberry.jpg')      \n",
    "]\n",
    "\n",
    "for row in items:\n",
    "    # : 필드의 인덱스 1부터 \n",
    "    sql='insert into product values (:1,:2,:3,:4,:5)'\n",
    "    print(row)\n",
    "    cur.execute(sql,row)\n",
    "conn.commit()"
   ]
  },
  {
   "cell_type": "code",
   "execution_count": null,
   "id": "6c9f3de8",
   "metadata": {
    "ExecuteTime": {
     "end_time": "2023-09-07T15:14:37.373109Z",
     "start_time": "2023-09-07T15:14:37.337938Z"
    }
   },
   "outputs": [],
   "source": [
    "# 상품개수를 추출하는 함수\n",
    "sql= 'select count(*) from product'\n",
    "cur.execute(sql)\n",
    "\n",
    "# 레코드 개수가 1개일경우\n",
    "count=cur.fetchone()\n",
    "print('상품개수: ',count[0])"
   ]
  },
  {
   "cell_type": "code",
   "execution_count": null,
   "id": "a859fd5e",
   "metadata": {
    "ExecuteTime": {
     "end_time": "2023-09-07T16:44:26.864934Z",
     "start_time": "2023-09-07T16:44:26.846934Z"
    }
   },
   "outputs": [],
   "source": [
    "# 레코드삭제\n",
    "sql='delete from product'\n",
    "cur.execute(sql)\n",
    "conn.commit()"
   ]
  },
  {
   "cell_type": "code",
   "execution_count": null,
   "id": "ee02cd3b",
   "metadata": {
    "ExecuteTime": {
     "end_time": "2023-09-07T16:36:56.279145Z",
     "start_time": "2023-09-07T16:36:56.270179Z"
    },
    "scrolled": true
   },
   "outputs": [],
   "source": [
    "# 레코드를 일괄적으로 추가\n",
    "items=[{1, '레몬', 1500, '레몬이다', 'lemon.jpg'},\n",
    "{2, '귤', 2500, '귤이다', 'mandarin.jpg'},\n",
    "{3, '사과', 3500, '사과다', 'apple.jpg'},\n",
    "{4, '포도', 4500,'포도다', 'grape.jpg'},\n",
    "{5, '딸기', 5500, '딸기다', 'strawberry.jpg'}      \n",
    "]\n",
    "sql='insert into product values (:1,:2,:3,:4,:5)'\n",
    "# 일괄적으로 레코드 추가할땐 레코드 개수 지정\n",
    "cur.bindarraysize=len(items)\n",
    "cur.executemany(sql,items)\n",
    "conn.commit()"
   ]
  },
  {
   "cell_type": "code",
   "execution_count": 7,
   "id": "6b9ae9d2",
   "metadata": {
    "ExecuteTime": {
     "end_time": "2023-09-07T16:58:52.477371Z",
     "start_time": "2023-09-07T16:58:52.461609Z"
    }
   },
   "outputs": [],
   "source": [
    "items = [\n",
    "    {'idx': 40, 'pname': '레몬', '가격': 1500, 'description': '레몬이다', 'image': 'lemon.jpg'}\n",
    "]\n",
    "\n",
    "sql = 'insert into product values (:idx, :pname, :가격, :description, :image)'\n",
    "\n",
    "# 커서 생성\n",
    "cur = conn.cursor()\n",
    "\n",
    "# 일괄적으로 레코드 추가할때 레코드 개수 지정\n",
    "cur.bindarraysize = len(items)\n",
    "\n",
    "# executemany 메서드에 딕셔너리의 리스트 전달\n",
    "cur.executemany(sql, items)\n",
    "\n",
    "# 변경 내용을 데이터베이스에 저장\n",
    "conn.commit()"
   ]
  },
  {
   "cell_type": "code",
   "execution_count": null,
   "id": "380a9a30",
   "metadata": {
    "ExecuteTime": {
     "end_time": "2023-09-07T15:14:41.964362Z",
     "start_time": "2023-09-07T15:14:41.953818Z"
    }
   },
   "outputs": [],
   "source": [
    "cur.close()\n",
    "conn.close()"
   ]
  },
  {
   "cell_type": "markdown",
   "id": "048b2e36",
   "metadata": {},
   "source": [
    "# 회원관리 프로그램\n",
    "\n",
    "- crud =DML\n",
    "- 테이블 생성 Member(userid primary key ,userpwd,name)\n",
    "- 주요기능 : 회원가입, 회원수정, 전체 회원정보 출력, 회원삭제"
   ]
  },
  {
   "cell_type": "code",
   "execution_count": null,
   "id": "13f954ea",
   "metadata": {
    "ExecuteTime": {
     "end_time": "2023-09-07T15:39:34.282603Z",
     "start_time": "2023-09-07T15:39:34.237227Z"
    }
   },
   "outputs": [],
   "source": [
    "import cx_Oracle as cx\n",
    "conn=cx.connect('scott','1234','localhost:1521/xe')"
   ]
  },
  {
   "cell_type": "markdown",
   "id": "6ccb3672",
   "metadata": {},
   "source": [
    "## member 테이블 조회"
   ]
  },
  {
   "cell_type": "code",
   "execution_count": null,
   "id": "148d5bd9",
   "metadata": {
    "ExecuteTime": {
     "end_time": "2023-09-07T15:39:46.964022Z",
     "start_time": "2023-09-07T15:39:46.943488Z"
    }
   },
   "outputs": [],
   "source": [
    "cur=conn.cursor()\n",
    "sql='select * from Member'\n",
    "cur.execute(sql)\n",
    "# 커서 객체가 가진 모든 레코드를 resultset 객체에 담기 => 리스트 객체 반환\n",
    "rs=cur.fetchall()\n",
    "# print(rs)\n",
    "for member in rs:\n",
    "    print(member)"
   ]
  },
  {
   "cell_type": "code",
   "execution_count": null,
   "id": "6084a03b",
   "metadata": {
    "ExecuteTime": {
     "end_time": "2023-09-07T15:39:49.141675Z",
     "start_time": "2023-09-07T15:39:49.122988Z"
    }
   },
   "outputs": [],
   "source": [
    "def insert(userid,pwd,username):\n",
    "    conn=cx.connect('scott','1234','localhost:1521/xe')\n",
    "    cur=conn.cursor()\n",
    "    sql='insert into Member values (:1,:2,:3)'\n",
    "    cur.execute(sql,[userid,pwd,username])\n",
    "    cur.close()\n",
    "    conn.commit() # DB 반영\n",
    "    conn.close()"
   ]
  },
  {
   "cell_type": "markdown",
   "id": "224987fc",
   "metadata": {},
   "source": [
    "## 레코드 삽입"
   ]
  },
  {
   "cell_type": "code",
   "execution_count": null,
   "id": "7e08edeb",
   "metadata": {
    "ExecuteTime": {
     "end_time": "2023-09-07T15:40:21.906324Z",
     "start_time": "2023-09-07T15:40:15.571331Z"
    }
   },
   "outputs": [],
   "source": [
    "print('회원가입')\n",
    "userid=input('id를 입력: ')\n",
    "pwd=input('pwd를 입력: ')\n",
    "username=input('이름입력: ')\n",
    "\n",
    "insert(userid,pwd,username)\n",
    "    "
   ]
  },
  {
   "cell_type": "markdown",
   "id": "8b3244cc",
   "metadata": {},
   "source": [
    "## 레코드수정"
   ]
  },
  {
   "cell_type": "code",
   "execution_count": null,
   "id": "01f188d4",
   "metadata": {
    "ExecuteTime": {
     "end_time": "2023-09-04T08:43:11.090535Z",
     "start_time": "2023-09-04T08:43:11.076877Z"
    }
   },
   "outputs": [],
   "source": [
    "def update(userid,pwd,username):\n",
    "    conn=cx.connect('scott','1234','localhost:1521/xe')\n",
    "    sql='update Member set pwd=:1, username=:2 where userid=:3'\n",
    "    cur=conn.cursor()\n",
    "    cur.execute(sql,[pwd,username,userid])\n",
    "    cur.close()\n",
    "    conn.commit()\n",
    "    conn.close()\n",
    "    "
   ]
  },
  {
   "cell_type": "code",
   "execution_count": null,
   "id": "567275b5",
   "metadata": {
    "ExecuteTime": {
     "end_time": "2023-09-04T08:43:45.021609Z",
     "start_time": "2023-09-04T08:43:45.016080Z"
    }
   },
   "outputs": [],
   "source": [
    "# id_check(userid)\n",
    "def id_check(userid):\n",
    "    conn=cx.connect('scott','1234','localhost:1521/xe')\n",
    "    SQL='select * from Member'\n",
    "    cur=conn.cursor()\n",
    "    cur.execute(sql)\n",
    "    rs=cur.fetchall()\n",
    "    \n",
    "    for row in rs:\n",
    "        if row[0]==userid:\n",
    "            return True\n",
    "    return False\n",
    "    \n",
    "    \n",
    "    \n",
    "    "
   ]
  },
  {
   "cell_type": "code",
   "execution_count": null,
   "id": "faa75e36",
   "metadata": {
    "ExecuteTime": {
     "end_time": "2023-09-04T08:44:12.254554Z",
     "start_time": "2023-09-04T08:44:01.859633Z"
    }
   },
   "outputs": [],
   "source": [
    "userid=input('id를 입력: ')\n",
    "if id_check(userid):    \n",
    "    pwd=input('pwd를 입력: ')\n",
    "    username=input('이름입력: ')\n",
    "    update(userid,pwd,username)\n",
    "else: \n",
    "    print('회원정보없음')\n",
    "    "
   ]
  },
  {
   "cell_type": "code",
   "execution_count": null,
   "id": "f2586457",
   "metadata": {
    "ExecuteTime": {
     "end_time": "2023-09-04T08:44:20.266772Z",
     "start_time": "2023-09-04T08:44:20.259588Z"
    }
   },
   "outputs": [],
   "source": [
    "def delete(userid):\n",
    "    conn=cx.connect('scott','1234','localhost:1521/xe')\n",
    "    sql='delete from Member where userid=:1'\n",
    "    cur=conn.cursor()\n",
    "    cur.execute(sql,[userid])\n",
    "    cur.close()\n",
    "    conn.commit()\n",
    "    conn.close()"
   ]
  },
  {
   "cell_type": "code",
   "execution_count": null,
   "id": "7f6c2d96",
   "metadata": {
    "ExecuteTime": {
     "end_time": "2023-09-04T08:44:27.238368Z",
     "start_time": "2023-09-04T08:44:23.604188Z"
    }
   },
   "outputs": [],
   "source": [
    "userid=input('id를 입력: ')\n",
    "if id_check(userid):    \n",
    "    delete(userid)\n",
    "else: \n",
    "    print('회원정보없음')"
   ]
  },
  {
   "cell_type": "markdown",
   "id": "a5b32d7b",
   "metadata": {},
   "source": [
    "# 최종 프로그램"
   ]
  },
  {
   "cell_type": "markdown",
   "id": "8f235fb0",
   "metadata": {},
   "source": [
    "## db연동"
   ]
  },
  {
   "cell_type": "code",
   "execution_count": null,
   "id": "db9a11da",
   "metadata": {
    "ExecuteTime": {
     "end_time": "2023-09-07T15:41:36.386850Z",
     "start_time": "2023-09-07T15:41:36.310551Z"
    }
   },
   "outputs": [],
   "source": [
    "import cx_Oracle as cx\n",
    "conn=cx.connect('scott','1234','localhost:1521/xe')"
   ]
  },
  {
   "cell_type": "markdown",
   "id": "25bd477b",
   "metadata": {},
   "source": [
    "## 기능별구현"
   ]
  },
  {
   "cell_type": "code",
   "execution_count": null,
   "id": "76bd0c5d",
   "metadata": {
    "ExecuteTime": {
     "end_time": "2023-09-07T15:41:38.378381Z",
     "start_time": "2023-09-07T15:41:38.366892Z"
    }
   },
   "outputs": [],
   "source": [
    "def insert(userid,pwd,username):\n",
    "    conn=cx.connect('scott','1234','localhost:1521/xe')\n",
    "    cur=conn.cursor()\n",
    "    sql='insert into Member values (:1,:2,:3)'\n",
    "    cur.execute(sql,[userid,pwd,username])\n",
    "    cur.close()\n",
    "    conn.commit()\n",
    "    conn.close()\n",
    "    \n",
    "def update(userid,pwd,username):\n",
    "    conn=cx.connect('scott','1234','localhost:1521/xe')\n",
    "    sql='update Member set pwd=:1, username=:2 where userid=:3'\n",
    "    cur=conn.cursor()\n",
    "    cur.execute(sql,[pwd,username,userid])\n",
    "    cur.close()\n",
    "    conn.commit()\n",
    "    conn.close()\n",
    "    \n",
    "def id_check(userid):\n",
    "    conn=cx.connect('scott','1234','localhost:1521/xe')\n",
    "    sql='select * from Member'\n",
    "    cur=conn.cursor()\n",
    "    cur.execute(sql)\n",
    "    rs=cur.fetchall()\n",
    "    \n",
    "    for row in rs:\n",
    "        if row[0]==userid:\n",
    "            return True\n",
    "    return False\n",
    "    \n",
    "def delete(userid):\n",
    "    conn=cx.connect('scott','1234','localhost:1521/xe')\n",
    "    sql='delete from Member where userid=:1'\n",
    "    cur=conn.cursor()\n",
    "    cur.execute(sql,userid)\n",
    "    cur.close()\n",
    "    conn.commit()\n",
    "    conn.close()\n",
    "    \n",
    "def showall():\n",
    "    cur=conn.cursor()\n",
    "    sql='select * from Member'\n",
    "    cur.execute(sql)\n",
    "# 커서 객체가 가진 모든 레코드를 resultset 객체에 담기\n",
    "    rs=cur.fetchall()\n",
    "# print(rs)\n",
    "    for member in rs:\n",
    "        print(member)\n",
    "    cur.close()\n",
    "    conn.close()"
   ]
  },
  {
   "cell_type": "markdown",
   "id": "e0e75a0b",
   "metadata": {},
   "source": [
    "## main"
   ]
  },
  {
   "cell_type": "code",
   "execution_count": null,
   "id": "b9fcd01e",
   "metadata": {
    "ExecuteTime": {
     "end_time": "2023-09-07T16:34:12.062269Z",
     "start_time": "2023-09-07T15:44:21.023499Z"
    }
   },
   "outputs": [],
   "source": [
    "while True:\n",
    "    print('\\n== 회원관리 플오글앰==')\n",
    "    print('1.회원등록')\n",
    "    print('2.회원수정')\n",
    "    print('3. 회원 삭제')\n",
    "    print('4. 전체회원')\n",
    "    print('5. 종료')\n",
    "    menu=int(input('메뉴 : '))\n",
    "    if menu==1:\n",
    "        userid=input('id를 입력: ')\n",
    "        pwd=input('pwd를 입력: ')\n",
    "        username=input('이름입력: ')\n",
    "        insert(userid,pwd,username)\n",
    "\n",
    "    elif menu==2:\n",
    "        userid=input('id를 입력: ')\n",
    "        if id_check(userid):\n",
    "            pwd=input('pwd를 입력: ')\n",
    "            username=input('이름입력: ')\n",
    "            update(userid,pwd,username)\n",
    "                    \n",
    "    elif menu==3:\n",
    "        userid=input('id를 입력: ')\n",
    "        if id_check(userid):    \n",
    "            delete(userid)\n",
    "        else: \n",
    "            print('회원정보없음')\n",
    "    elif menu==4:\n",
    "        showall()\n",
    "        \n",
    "    elif menu==5:\n",
    "        break\n",
    "    else:\n",
    "        print('다시입력')"
   ]
  },
  {
   "cell_type": "code",
   "execution_count": null,
   "id": "866af5f7",
   "metadata": {
    "ExecuteTime": {
     "end_time": "2023-09-04T08:46:37.277392Z",
     "start_time": "2023-09-04T08:46:37.248966Z"
    }
   },
   "outputs": [],
   "source": [
    "import dbTest\n",
    "while True:\n",
    "    print('\\n== 회원관리 플오글앰==')\n",
    "    print('1.회원등록')\n",
    "    print('2.회원수정')\n",
    "    print('3. 회원 삭제')\n",
    "    print('4. 전체회원')\n",
    "    print('5. 종료')\n",
    "    menu=int(input('메뉴 : '))\n",
    "    if menu==1:\n",
    "        userid=input('id를 입력: ')\n",
    "        pwd=input('pwd를 입력: ')\n",
    "        username=input('이름입력: ')\n",
    "        dbTest.insert(userid,pwd,username)\n",
    "\n",
    "    elif menu==2:\n",
    "        userid=input('id를 입력: ')\n",
    "        if dbTest.check(userid) == 1:\n",
    "            pwd=input('pwd를 입력: ')\n",
    "            username=input('이름입력: ')\n",
    "            dbTest.update(userid,pwd,username)\n",
    "                    \n",
    "    elif menu==3:\n",
    "        userid=input('id를 입력: ')\n",
    "        if dbTest.check(userid) == 1:    \n",
    "            dbTest.delete(userid)\n",
    "        else: \n",
    "            print('회원정보없음')\n",
    "    elif menu==4:\n",
    "        dbTest.listMember()\n",
    "        \n",
    "    elif menu==5:\n",
    "        break\n",
    "    else:\n",
    "        print('다시입력')"
   ]
  },
  {
   "cell_type": "code",
   "execution_count": null,
   "id": "d34d5e87",
   "metadata": {
    "ExecuteTime": {
     "end_time": "2023-09-04T08:47:27.122003Z",
     "start_time": "2023-09-04T08:47:27.101722Z"
    }
   },
   "outputs": [],
   "source": [
    "import dbTest"
   ]
  }
 ],
 "metadata": {
  "kernelspec": {
   "display_name": "Python 3",
   "language": "python",
   "name": "python3"
  },
  "language_info": {
   "codemirror_mode": {
    "name": "ipython",
    "version": 3
   },
   "file_extension": ".py",
   "mimetype": "text/x-python",
   "name": "python",
   "nbconvert_exporter": "python",
   "pygments_lexer": "ipython3",
   "version": "3.8.8"
  },
  "toc": {
   "base_numbering": 1,
   "nav_menu": {},
   "number_sections": true,
   "sideBar": true,
   "skip_h1_title": false,
   "title_cell": "Table of Contents",
   "title_sidebar": "Contents",
   "toc_cell": false,
   "toc_position": {
    "height": "calc(100% - 180px)",
    "left": "10px",
    "top": "150px",
    "width": "349.091px"
   },
   "toc_section_display": true,
   "toc_window_display": true
  },
  "varInspector": {
   "cols": {
    "lenName": 16,
    "lenType": 16,
    "lenVar": 40
   },
   "kernels_config": {
    "python": {
     "delete_cmd_postfix": "",
     "delete_cmd_prefix": "del ",
     "library": "var_list.py",
     "varRefreshCmd": "print(var_dic_list())"
    },
    "r": {
     "delete_cmd_postfix": ") ",
     "delete_cmd_prefix": "rm(",
     "library": "var_list.r",
     "varRefreshCmd": "cat(var_dic_list()) "
    }
   },
   "types_to_exclude": [
    "module",
    "function",
    "builtin_function_or_method",
    "instance",
    "_Feature"
   ],
   "window_display": false
  }
 },
 "nbformat": 4,
 "nbformat_minor": 5
}

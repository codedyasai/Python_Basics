{
 "cells": [
  {
   "cell_type": "markdown",
   "id": "6cebf623",
   "metadata": {},
   "source": [
    "# 에러와 예외\n",
    "1. 에러(Syntax Error)\n",
    "    - 문법오류\n",
    "    - 파이썬은 상대적으로 언어적 문법이 간단하므로 구문 자체의 에러 발생 비율이 낮다\n",
    "2. 예외(Exception)\n",
    "    - 구문 에러는 없으나 프로그램 실행 중 더이상 진행할 수 없는 상황\n",
    "    - 예외가 발생하면 프로그램은 바로 종료됨\n",
    "    - 개발자에 의해 임의로 또는 강제로 발생시키는 에러: raise구문\n",
    "    \n",
    "3. 예외처리 방법 <br>\n",
    "      try: 예외발생할 문구 <br>\n",
    "      except Exception : 예외 발생시 처리할 문장 <br>\n",
    "      else: 예외가 발생하지 않았을때 실행할 문장 <br>\n",
    "      finally: 예외와 상관없이 실행할 문장\n"
   ]
  },
  {
   "cell_type": "code",
   "execution_count": 1,
   "id": "b2f27b92",
   "metadata": {
    "ExecuteTime": {
     "end_time": "2023-09-04T06:26:53.909718Z",
     "start_time": "2023-09-04T06:26:53.895740Z"
    }
   },
   "outputs": [
    {
     "name": "stdout",
     "output_type": "stream",
     "text": [
      "start\n",
      "division by zero\n",
      "end\n"
     ]
    }
   ],
   "source": [
    "#일반적인 프로그램의 흐름은 위에서 아래로, 좌에서 우로 진행된다\n",
    "print('start')\n",
    "try:\n",
    "    4/0\n",
    "except Exception as e:\n",
    "    print(e) #e.message 생략\n",
    "else :\n",
    "    4/1\n",
    "finally:\n",
    "    print('end')"
   ]
  },
  {
   "cell_type": "code",
   "execution_count": 3,
   "id": "498db18e",
   "metadata": {
    "ExecuteTime": {
     "end_time": "2023-09-04T06:27:44.521030Z",
     "start_time": "2023-09-04T06:27:41.345527Z"
    }
   },
   "outputs": [
    {
     "name": "stdout",
     "output_type": "stream",
     "text": [
      "종료하려면 q를 입력하세요\n",
      "\n",
      "분자= 4\n",
      "분모: 0\n"
     ]
    },
    {
     "ename": "ZeroDivisionError",
     "evalue": "division by zero",
     "output_type": "error",
     "traceback": [
      "\u001b[1;31m---------------------------------------------------------------------------\u001b[0m",
      "\u001b[1;31mZeroDivisionError\u001b[0m                         Traceback (most recent call last)",
      "\u001b[1;32m<ipython-input-3-4778b938e9cf>\u001b[0m in \u001b[0;36m<module>\u001b[1;34m\u001b[0m\n\u001b[0;32m      5\u001b[0m         \u001b[1;32mbreak\u001b[0m\u001b[1;33m\u001b[0m\u001b[1;33m\u001b[0m\u001b[0m\n\u001b[0;32m      6\u001b[0m     \u001b[0mnum2\u001b[0m\u001b[1;33m=\u001b[0m\u001b[0minput\u001b[0m\u001b[1;33m(\u001b[0m\u001b[1;34m'분모: '\u001b[0m\u001b[1;33m)\u001b[0m\u001b[1;33m\u001b[0m\u001b[1;33m\u001b[0m\u001b[0m\n\u001b[1;32m----> 7\u001b[1;33m     \u001b[0mresult\u001b[0m\u001b[1;33m=\u001b[0m\u001b[0mint\u001b[0m\u001b[1;33m(\u001b[0m\u001b[0mnum1\u001b[0m\u001b[1;33m)\u001b[0m\u001b[1;33m/\u001b[0m\u001b[0mint\u001b[0m\u001b[1;33m(\u001b[0m\u001b[0mnum2\u001b[0m\u001b[1;33m)\u001b[0m\u001b[1;33m\u001b[0m\u001b[1;33m\u001b[0m\u001b[0m\n\u001b[0m\u001b[0;32m      8\u001b[0m \u001b[1;33m\u001b[0m\u001b[0m\n\u001b[0;32m      9\u001b[0m     \u001b[0mprint\u001b[0m\u001b[1;33m(\u001b[0m\u001b[1;34mf'{num1}/{num2}={result}'\u001b[0m\u001b[1;33m)\u001b[0m\u001b[1;33m\u001b[0m\u001b[1;33m\u001b[0m\u001b[0m\n",
      "\u001b[1;31mZeroDivisionError\u001b[0m: division by zero"
     ]
    }
   ],
   "source": [
    "print('종료하려면 q를 입력하세요')\n",
    "while True:\n",
    "    num1=input('\\n분자= ')\n",
    "    if num1=='q':\n",
    "        break\n",
    "    num2=input('분모: ')\n",
    "    result=int(num1)/int(num2)\n",
    "    \n",
    "    print(f'{num1}/{num2}={result}')\n",
    "print('프로그램 종료')\n",
    "    "
   ]
  },
  {
   "cell_type": "code",
   "execution_count": 4,
   "id": "a1c03662",
   "metadata": {
    "ExecuteTime": {
     "end_time": "2023-09-04T06:28:21.081047Z",
     "start_time": "2023-09-04T06:27:53.160778Z"
    }
   },
   "outputs": [
    {
     "name": "stdout",
     "output_type": "stream",
     "text": [
      "종료하려면 q를 입력하세요\n",
      "\n",
      "분자= 4\n",
      "분모: 0\n",
      "division by zero\n",
      "아라아라\n",
      "\n",
      "분자= 1\n",
      "분모: 3\n",
      "1/3=0.3333333333333333\n",
      "\n",
      "분자= q\n",
      "프로그램종료\n"
     ]
    }
   ],
   "source": [
    "print('종료하려면 q를 입력하세요')\n",
    "while True:\n",
    "    num1=input('\\n분자= ')\n",
    "    if num1=='q':\n",
    "        break\n",
    "    num2=input('분모: ')\n",
    "    \n",
    "    try:\n",
    "        result=int(num1)/int(num2)\n",
    "        print(f'{num1}/{num2}={result}')\n",
    "    except Exception as e:\n",
    "        print(e)\n",
    "        print('아라아라')\n",
    "\n",
    "print('프로그램종료')\n",
    "    \n",
    "    \n"
   ]
  },
  {
   "cell_type": "code",
   "execution_count": 5,
   "id": "ba7cdebd",
   "metadata": {
    "ExecuteTime": {
     "end_time": "2023-09-04T06:28:42.214948Z",
     "start_time": "2023-09-04T06:28:42.198535Z"
    }
   },
   "outputs": [],
   "source": [
    "def exTest():\n",
    "    print('start')\n",
    "    try:\n",
    "        print(2+'2')\n",
    "    except Exception as e:\n",
    "        print(e)\n",
    "    print('end')\n",
    "    "
   ]
  },
  {
   "cell_type": "code",
   "execution_count": 6,
   "id": "4425d737",
   "metadata": {
    "ExecuteTime": {
     "end_time": "2023-09-04T06:28:43.716177Z",
     "start_time": "2023-09-04T06:28:43.699258Z"
    }
   },
   "outputs": [
    {
     "name": "stdout",
     "output_type": "stream",
     "text": [
      "start\n",
      "unsupported operand type(s) for +: 'int' and 'str'\n",
      "end\n"
     ]
    }
   ],
   "source": [
    "exTest()"
   ]
  },
  {
   "cell_type": "code",
   "execution_count": 7,
   "id": "4c8b50f1",
   "metadata": {
    "ExecuteTime": {
     "end_time": "2023-09-04T06:35:40.885974Z",
     "start_time": "2023-09-04T06:35:40.872810Z"
    }
   },
   "outputs": [
    {
     "name": "stdout",
     "output_type": "stream",
     "text": [
      "[Errno 2] No such file or directory: 'test2.txt'\n",
      "해당파일존재x\n"
     ]
    }
   ],
   "source": [
    "#1. 파일객체 생성과 파일오픈\n",
    "##open('파일이름','r/w/a')\n",
    "try:\n",
    "    f=open('test2.txt','r')\n",
    "    \n",
    "except Exception as e:\n",
    "    print(e)\n",
    "    print('해당파일존재x')\n",
    "#2. 실제 처리할 작업을 기술=비즈니스 로직\n",
    "else:\n",
    "    while True:\n",
    "        line = f.readlines()\n",
    "        if not line:\n",
    "            break\n",
    "        print(line,end='')\n",
    "    f.close()\n",
    "#3. 파일닫기"
   ]
  },
  {
   "cell_type": "markdown",
   "id": "628449e0",
   "metadata": {},
   "source": [
    "## 처리조건: 계산기 프로그램\n",
    "1. 두개의 숫자와 연산자를 입력받아 사친연산을 수행\n",
    "2. 연산자는+ - * / 만 입력, 단 이외의 연산자가 들어오면 예외처리\n",
    "3. 두번째 연산자가 '/' 이고 두번째로 입력받은 숫자가 0이면 예외처리\n",
    "4. 계산을 수행할 값이 숫자가 아니면 예외\n",
    "5. 주어진 입출력 형식에 맞게 프로그램을 구현한다\n",
    "6. 사용자가 원하는 연산을 수행할 수 있도록 구현한다\n",
    "7. 첫번째수로 q가 입력되면 종료\n",
    "## 입출력형식\n",
    "첫번째수 =\n",
    "연산자(+,-,*,/)=\n",
    "두번째 수 = \n",
    "10 - 4 = 6\n"
   ]
  },
  {
   "cell_type": "code",
   "execution_count": null,
   "id": "c9500661",
   "metadata": {
    "ExecuteTime": {
     "start_time": "2023-09-04T06:38:24.622Z"
    }
   },
   "outputs": [
    {
     "name": "stdout",
     "output_type": "stream",
     "text": [
      "입력 A: 4\n",
      "연산자 +,-,*,/ : ]\n",
      "입력 B: 2\n",
      "연산자 오류\n"
     ]
    }
   ],
   "source": [
    "\n",
    "while True:\n",
    "    a=input('입력 A: ')\n",
    "    s=input('연산자 +,-,*,/ : ')\n",
    "    b=input('입력 B: ')\n",
    "    if a=='q':\n",
    "        break\n",
    "    else:\n",
    "        a=int(a)\n",
    "        b=int(b)\n",
    "        if s == '+':\n",
    "            print('{} {} {} = {}'.format(a,s,b,a+b))\n",
    "        elif s=='-':\n",
    "            print('{} {} {} = {}'.format(a,s,b,a-b))\n",
    "        elif s=='*':\n",
    "            print('{} {} {} = {}'.format(a,s,b,a*b))\n",
    "        elif s=='/':\n",
    "            if b==0:\n",
    "                print('0으로 나누기 오류')\n",
    "            else:\n",
    "                print('{} {} {} = {}'.format(a,s,b,a/b))\n",
    "        else:\n",
    "            print('연산자 오류')\n",
    "                \n",
    "        "
   ]
  },
  {
   "cell_type": "code",
   "execution_count": null,
   "id": "ef36147f",
   "metadata": {},
   "outputs": [],
   "source": []
  }
 ],
 "metadata": {
  "kernelspec": {
   "display_name": "Python 3",
   "language": "python",
   "name": "python3"
  },
  "language_info": {
   "codemirror_mode": {
    "name": "ipython",
    "version": 3
   },
   "file_extension": ".py",
   "mimetype": "text/x-python",
   "name": "python",
   "nbconvert_exporter": "python",
   "pygments_lexer": "ipython3",
   "version": "3.8.8"
  },
  "toc": {
   "base_numbering": 1,
   "nav_menu": {},
   "number_sections": true,
   "sideBar": true,
   "skip_h1_title": false,
   "title_cell": "Table of Contents",
   "title_sidebar": "Contents",
   "toc_cell": false,
   "toc_position": {},
   "toc_section_display": true,
   "toc_window_display": false
  },
  "varInspector": {
   "cols": {
    "lenName": 16,
    "lenType": 16,
    "lenVar": 40
   },
   "kernels_config": {
    "python": {
     "delete_cmd_postfix": "",
     "delete_cmd_prefix": "del ",
     "library": "var_list.py",
     "varRefreshCmd": "print(var_dic_list())"
    },
    "r": {
     "delete_cmd_postfix": ") ",
     "delete_cmd_prefix": "rm(",
     "library": "var_list.r",
     "varRefreshCmd": "cat(var_dic_list()) "
    }
   },
   "types_to_exclude": [
    "module",
    "function",
    "builtin_function_or_method",
    "instance",
    "_Feature"
   ],
   "window_display": false
  }
 },
 "nbformat": 4,
 "nbformat_minor": 5
}

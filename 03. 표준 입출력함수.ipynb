{
 "cells": [
  {
   "cell_type": "markdown",
   "id": "3b3258e4",
   "metadata": {},
   "source": [
    "# 표준 입력함수 : input()\n",
    "\n",
    "- 파이썬에서 기본적으로 데이터를 키보드로 입력할 때 사용하는 함수 : 콘솔(console) 환경\n",
    "- input함수는 입력되는 모든 것을 문자열로 취급한다.\n",
    "- 형식 : 변수 = input()"
   ]
  },
  {
   "cell_type": "code",
   "execution_count": 1,
   "id": "f43d992e",
   "metadata": {
    "ExecuteTime": {
     "end_time": "2023-08-31T04:57:58.876299Z",
     "start_time": "2023-08-31T04:57:57.553665Z"
    }
   },
   "outputs": [
    {
     "name": "stdout",
     "output_type": "stream",
     "text": [
      "3\n",
      "3\n"
     ]
    }
   ],
   "source": [
    "# '=' 연산자의 방향은 오른쪽에서 왼쪽이다.\n",
    "# '+' 연산자의 연산방향은 좌에서 우이다.\n",
    "\n",
    "a = input()\n",
    "print(a)"
   ]
  },
  {
   "cell_type": "code",
   "execution_count": 4,
   "id": "24e0429e",
   "metadata": {
    "ExecuteTime": {
     "end_time": "2023-08-29T01:34:17.422298Z",
     "start_time": "2023-08-29T01:34:13.696247Z"
    }
   },
   "outputs": [
    {
     "name": "stdout",
     "output_type": "stream",
     "text": [
      "숫자입력 : 1qw1e\n",
      "입력받은 숫자 :  1qw1e\n"
     ]
    }
   ],
   "source": [
    "# input(message)\n",
    "\n",
    "b = input(\"숫자입력 : \")\n",
    "print(\"입력받은 숫자 : \", b)"
   ]
  },
  {
   "cell_type": "code",
   "execution_count": 5,
   "id": "8e2e4712",
   "metadata": {
    "ExecuteTime": {
     "end_time": "2023-08-29T01:34:44.275338Z",
     "start_time": "2023-08-29T01:34:30.705025Z"
    }
   },
   "outputs": [
    {
     "name": "stdout",
     "output_type": "stream",
     "text": [
      "반지름 : 3\n",
      "원의 둘레 :  18.84 원의 면적 28.26\n"
     ]
    }
   ],
   "source": [
    "# 반지름을 입력받아 원의 면적과 둘레를 계산하는 프로그램을 수행하시오\n",
    "\n",
    "pi = 3.14\n",
    "\n",
    "radius = int(input(\"반지름 : \"))\n",
    "# input은 문자열로 된다는걸 기억해라. 숫자로 하기 위해 int를 씌웠음\n",
    "\n",
    "\n",
    "print(\"원의 둘레 : \", 2 * pi * radius, \"원의 면적\", radius * radius * pi)"
   ]
  },
  {
   "cell_type": "markdown",
   "id": "87bbbada",
   "metadata": {},
   "source": [
    "## 여러 값을 한번에 입력받는 함수\n",
    "\n",
    "- split() : 특정 문자를 기준으로 문자열을 잘라내는 함수\n",
    "- map() : map(변환함수, 반복 가능한 객체)"
   ]
  },
  {
   "cell_type": "code",
   "execution_count": 6,
   "id": "270fbcba",
   "metadata": {
    "ExecuteTime": {
     "end_time": "2023-08-29T01:35:20.343409Z",
     "start_time": "2023-08-29T01:35:16.755398Z"
    }
   },
   "outputs": [
    {
     "name": "stdout",
     "output_type": "stream",
     "text": [
      "1 2 3 4 5\n",
      "1 2 3 4 5\n"
     ]
    }
   ],
   "source": [
    "num = input()\n",
    "print(num)\n",
    "# 1 2 3 4 5를 입력해보자"
   ]
  },
  {
   "cell_type": "code",
   "execution_count": 7,
   "id": "0777ad26",
   "metadata": {
    "ExecuteTime": {
     "end_time": "2023-08-29T01:35:27.920836Z",
     "start_time": "2023-08-29T01:35:25.036802Z"
    }
   },
   "outputs": [
    {
     "name": "stdout",
     "output_type": "stream",
     "text": [
      "1 2 3 4 5\n",
      "['1', '2', '3', '4', '5']\n"
     ]
    }
   ],
   "source": [
    "num = input().split() # 공백을 기준으로 자르라는 뜻. 함수의 기본은 공백임\n",
    "print(num)\n",
    "# 다시 1 2 3 4 5를 넣어보자"
   ]
  },
  {
   "cell_type": "code",
   "execution_count": 8,
   "id": "ab85e6a5",
   "metadata": {
    "ExecuteTime": {
     "end_time": "2023-08-29T01:35:49.669345Z",
     "start_time": "2023-08-29T01:35:29.450428Z"
    }
   },
   "outputs": [
    {
     "name": "stdout",
     "output_type": "stream",
     "text": [
      "1 2 3 4 5\n",
      "<map object at 0x000002816C72C1C0>\n"
     ]
    }
   ],
   "source": [
    "num = map(int, input().split()) # map 객체로 반환된다. (주소반환)\n",
    "print(num)\n",
    "\n",
    "#결과값에 나오는 것은 저기 안에 map 객체가 저장되어 있다는 뜻. 에러가 아님"
   ]
  },
  {
   "cell_type": "code",
   "execution_count": 9,
   "id": "3919c857",
   "metadata": {
    "ExecuteTime": {
     "end_time": "2023-08-29T01:36:30.070606Z",
     "start_time": "2023-08-29T01:36:27.614228Z"
    }
   },
   "outputs": [
    {
     "name": "stdout",
     "output_type": "stream",
     "text": [
      "1 2 3 4 5\n",
      "[1, 2, 3, 4, 5]\n"
     ]
    }
   ],
   "source": [
    "# list(리스트, R의 벡터와 같다)는 1차원 배열을 의미하는 자료형이다.\n",
    "\n",
    "num = list(map(int, input().split()))\n",
    "print(num)\n",
    "#숫자로 변환되어서 나온다"
   ]
  },
  {
   "cell_type": "markdown",
   "id": "0afcc677",
   "metadata": {},
   "source": [
    "# 표준 출력함수 : print()\n",
    "\n",
    "- 기본형 : print(\"출력내용\")\n",
    "- print(a,b,c)"
   ]
  },
  {
   "cell_type": "markdown",
   "id": "1eca7c54",
   "metadata": {},
   "source": [
    "## 형식화된 문자열을 이용한 출력\n",
    "\n",
    "- 형식 : 형식화된 문자열.format(변수)"
   ]
  },
  {
   "cell_type": "code",
   "execution_count": 10,
   "id": "23392996",
   "metadata": {
    "ExecuteTime": {
     "end_time": "2023-08-29T01:41:20.725596Z",
     "start_time": "2023-08-29T01:41:20.710646Z"
    }
   },
   "outputs": [
    {
     "name": "stdout",
     "output_type": "stream",
     "text": [
      "9\n",
      "x =  9\n",
      "정수1 : 9\n",
      "결과 : 15\n",
      "덧셈 : 18, 곱셈 : 81\n"
     ]
    }
   ],
   "source": [
    "x = 9 \n",
    "\n",
    "print(x)\n",
    "\n",
    "print('x = ', x)\n",
    "\n",
    "print(\"정수1 : {0}\".format(x)) #x의 값을 0 자리에 찍으라는 뜻\n",
    "\n",
    "print(\"결과 : {0}\".format(3*5))\n",
    "\n",
    "print(\"덧셈 : {0}, 곱셈 : {1}\".format(x+x, x*x))"
   ]
  },
  {
   "cell_type": "code",
   "execution_count": 11,
   "id": "648c1dad",
   "metadata": {
    "ExecuteTime": {
     "end_time": "2023-08-29T01:41:38.075577Z",
     "start_time": "2023-08-29T01:41:38.067146Z"
    }
   },
   "outputs": [
    {
     "name": "stdout",
     "output_type": "stream",
     "text": [
      "오혜린님의 나이는 25세이고 성별은 f입니다.\n"
     ]
    }
   ],
   "source": [
    "name = \"오혜린\"\n",
    "age = 25\n",
    "gender = \"f\"\n",
    "\n",
    "print(\"%s님의 나이는 %d세이고 성별은 %c입니다.\"%(name, age, gender))"
   ]
  },
  {
   "cell_type": "code",
   "execution_count": 12,
   "id": "e1a9e126",
   "metadata": {
    "ExecuteTime": {
     "end_time": "2023-08-29T01:42:02.967450Z",
     "start_time": "2023-08-29T01:42:02.949121Z"
    }
   },
   "outputs": [
    {
     "name": "stdout",
     "output_type": "stream",
     "text": [
      "결과: 4.150000\n",
      "결과: 4.15\n"
     ]
    }
   ],
   "source": [
    "x = 8.3/2\n",
    "\n",
    "print(\"결과: %f\"%x)\n",
    "print(\"결과: %.2f\"%x)"
   ]
  },
  {
   "cell_type": "code",
   "execution_count": 13,
   "id": "403f7732",
   "metadata": {
    "ExecuteTime": {
     "end_time": "2023-08-29T01:51:35.740378Z",
     "start_time": "2023-08-29T01:51:35.734343Z"
    }
   },
   "outputs": [
    {
     "name": "stdout",
     "output_type": "stream",
     "text": [
      "a = 10, b = 20\n"
     ]
    }
   ],
   "source": [
    "a = 10\n",
    "b = 20\n",
    "\n",
    "print(\"a = {1}, b = {0}\".format(b,a))"
   ]
  },
  {
   "cell_type": "code",
   "execution_count": 14,
   "id": "46a7897e",
   "metadata": {
    "ExecuteTime": {
     "end_time": "2023-08-29T01:51:51.145359Z",
     "start_time": "2023-08-29T01:51:51.142224Z"
    }
   },
   "outputs": [
    {
     "name": "stdout",
     "output_type": "stream",
     "text": [
      "실수 1 : 3.074\n"
     ]
    }
   ],
   "source": [
    "#형식화된 문자열. format()\n",
    "print(\"실수 1 : {0:.3f}\".format(8.3/2.7))"
   ]
  },
  {
   "cell_type": "code",
   "execution_count": 15,
   "id": "cf2bbc94",
   "metadata": {
    "ExecuteTime": {
     "end_time": "2023-08-29T01:51:59.965997Z",
     "start_time": "2023-08-29T01:51:59.952610Z"
    }
   },
   "outputs": [
    {
     "name": "stdout",
     "output_type": "stream",
     "text": [
      "실수값 : 12.0\n",
      "실수값 : 12.0\n",
      "실수값 : 12.000\n",
      "실수값 : 12.00\n",
      "실수값 :    12.0000\n"
     ]
    }
   ],
   "source": [
    "y = 2.5 * 4.8\n",
    "print(\"실수값 : {}\".format(y))\n",
    "print(\"실수값 : {0}\".format(y))\n",
    "print(\"실수값 : {0:.3f}\".format(y))\n",
    "print(\"실수값 : {0:.2f}\".format(y))\n",
    "print(\"실수값 : {0:10.4f}\".format(y)) #정수는 10째자리, 소수는 4쨰자리까지 담겠다"
   ]
  },
  {
   "cell_type": "markdown",
   "id": "a1bb4d67",
   "metadata": {},
   "source": [
    "## 서식기호를 이용한 출력"
   ]
  },
  {
   "cell_type": "code",
   "execution_count": null,
   "id": "afbd6af1",
   "metadata": {
    "ExecuteTime": {
     "end_time": "2023-08-22T05:17:14.781503Z",
     "start_time": "2023-08-22T05:17:14.766140Z"
    }
   },
   "outputs": [],
   "source": [
    "# %s : 문자열\n",
    "# %c : 문자\n",
    "# %d : 정수\n",
    "# %f : 실수\n",
    "\n",
    "num = 12\n",
    "print('현재 시간은 %d 입니다.' % num)"
   ]
  },
  {
   "cell_type": "code",
   "execution_count": null,
   "id": "30986592",
   "metadata": {
    "ExecuteTime": {
     "end_time": "2023-08-22T05:18:24.126500Z",
     "start_time": "2023-08-22T05:18:24.118395Z"
    }
   },
   "outputs": [],
   "source": [
    "hour = 14\n",
    "minute = 17\n",
    "print('현재 시간은 %d시 %d분입니다.' % (hour, minute))"
   ]
  },
  {
   "cell_type": "code",
   "execution_count": null,
   "id": "a5385747",
   "metadata": {
    "ExecuteTime": {
     "end_time": "2023-08-22T05:20:20.995593Z",
     "start_time": "2023-08-22T05:20:20.988617Z"
    }
   },
   "outputs": [],
   "source": [
    "name = '혜린'\n",
    "height = 180\n",
    "weight = 78.5\n",
    "print('%s님의 키는 %d이고, 몸무게는 %.2f입니다.'%(name, height, weight))"
   ]
  },
  {
   "cell_type": "code",
   "execution_count": 16,
   "id": "44126f56",
   "metadata": {
    "ExecuteTime": {
     "end_time": "2023-08-29T01:59:24.819870Z",
     "start_time": "2023-08-29T01:59:24.815074Z"
    }
   },
   "outputs": [
    {
     "name": "stdout",
     "output_type": "stream",
     "text": [
      "숫자출력        100\n",
      "숫자출력      10000\n",
      "숫자출력 10000     \n"
     ]
    }
   ],
   "source": [
    "# 서식지정자(%)와 서식기호 사이에 숫자는 자릿수를 의미힌다.\n",
    "#기본적으로 숫자는 오른쪽 정렬 : 정렬(양수와 음수로 구분)\n",
    "# - 로 옵션을 주면 기준이 왼쪽정렬로 바뀜\n",
    "\n",
    "print('숫자출력 %10d' % 100)\n",
    "print('숫자출력 %10d' % 10000)\n",
    "print('숫자출력 %-10d' % 10000)"
   ]
  },
  {
   "cell_type": "code",
   "execution_count": 17,
   "id": "fa8aa332",
   "metadata": {
    "ExecuteTime": {
     "end_time": "2023-08-29T01:59:39.961281Z",
     "start_time": "2023-08-29T01:59:39.956555Z"
    }
   },
   "outputs": [
    {
     "name": "stdout",
     "output_type": "stream",
     "text": [
      "혜린 is GOAT\n"
     ]
    }
   ],
   "source": [
    "print(\"{name} is {status}\".format(name = '혜린', status = 'GOAT'))"
   ]
  },
  {
   "cell_type": "code",
   "execution_count": 18,
   "id": "aac83046",
   "metadata": {
    "ExecuteTime": {
     "end_time": "2023-08-29T01:59:41.611335Z",
     "start_time": "2023-08-29T01:59:41.601683Z"
    }
   },
   "outputs": [
    {
     "name": "stdout",
     "output_type": "stream",
     "text": [
      "혜린 is GOAT\n"
     ]
    }
   ],
   "source": [
    "# 파이썬 3.6부터는 문자열 포매팅에 변수를 그래도 사용할 수 있다.\n",
    "# 문자열 앞에 문자열 포매팅이라는 의미로 f를 붙여준다\n",
    "\n",
    "name = '혜린'\n",
    "status = 'GOAT'\n",
    "\n",
    "print(f'{name} is {status}')"
   ]
  },
  {
   "cell_type": "code",
   "execution_count": 19,
   "id": "84dd34a6",
   "metadata": {
    "ExecuteTime": {
     "end_time": "2023-08-29T01:59:57.738532Z",
     "start_time": "2023-08-29T01:59:57.725814Z"
    }
   },
   "outputs": [
    {
     "name": "stdout",
     "output_type": "stream",
     "text": [
      "hi\n",
      "hi        \n",
      "        hi\n",
      "    hi    \n",
      "====hi====\n"
     ]
    }
   ],
   "source": [
    "# 문자정렬은 기본이 왼쪽정렬이다.\n",
    "# 인덱스 뒤에 :>(숫자)\n",
    "\n",
    "print('{}'.format('hi'))\n",
    "\n",
    "print('{0:10s}'.format('hi')) # 문자는 왼쪽정렬이라 10칸 하라해도 똑같이 나온다\n",
    "\n",
    "# print('{0: -10s}'.format('hi')) 는 문자열에서 안된다\n",
    "\n",
    "print('{0:>10s}'.format('hi')) # 오른쪽 정렬은 이렇게 해야된다.\n",
    "\n",
    "print('{0:^10s}'.format('hi')) # 가운데 정렬\n",
    "\n",
    "print('{0:=^10s}'.format('hi')) # = : 빈공간을 \"=\"로 채우기"
   ]
  },
  {
   "cell_type": "code",
   "execution_count": 20,
   "id": "567d0cc9",
   "metadata": {
    "ExecuteTime": {
     "end_time": "2023-08-29T02:06:31.062205Z",
     "start_time": "2023-08-29T02:06:31.059071Z"
    }
   },
   "outputs": [
    {
     "name": "stdout",
     "output_type": "stream",
     "text": [
      "     4.200\n"
     ]
    }
   ],
   "source": [
    "x = 4.2\n",
    "\n",
    "print(f\"{x:10.3f}\")"
   ]
  },
  {
   "cell_type": "code",
   "execution_count": 21,
   "id": "fb7c64db",
   "metadata": {
    "ExecuteTime": {
     "end_time": "2023-08-29T02:06:57.639397Z",
     "start_time": "2023-08-29T02:06:57.626448Z"
    }
   },
   "outputs": [
    {
     "name": "stdout",
     "output_type": "stream",
     "text": [
      "x = 100, y= 200\n",
      "x = 200, y= 100\n"
     ]
    }
   ],
   "source": [
    "# swap : 자리바꿈\n",
    "\n",
    "x = 100\n",
    "y = 200\n",
    "\n",
    "print('x = %d, y= %d' %(x,y))\n",
    "\n",
    "x,y = y,x # 밑의 패킹과 언패킹 보면 왜 이게 가능한지 이해가능\n",
    "\n",
    "print('x = %d, y= %d' %(x,y))"
   ]
  },
  {
   "cell_type": "code",
   "execution_count": 22,
   "id": "d48cecd3",
   "metadata": {
    "ExecuteTime": {
     "end_time": "2023-08-29T02:07:08.859280Z",
     "start_time": "2023-08-29T02:07:08.848648Z"
    }
   },
   "outputs": [
    {
     "data": {
      "text/plain": [
       "(1, 2, 3, 4, 5)"
      ]
     },
     "execution_count": 22,
     "metadata": {},
     "output_type": "execute_result"
    }
   ],
   "source": [
    "# 파이썬의 자료구조\n",
    "# 자료구조 : 하나이상의 데이터를 담아서 관리하는 공간\n",
    "\n",
    "# 리스트, 튜플, 집합(셑), 딕셔너리, 데잍프레임\n",
    "\n",
    "##패킹과 언패킹\n",
    "\n",
    "x = 1,2,3,4,5 # 패킹, x = (1,2,3,4,5), tuple\n",
    "x"
   ]
  },
  {
   "cell_type": "code",
   "execution_count": 23,
   "id": "86bf8fb8",
   "metadata": {
    "ExecuteTime": {
     "end_time": "2023-08-29T02:07:17.660262Z",
     "start_time": "2023-08-29T02:07:17.647306Z"
    }
   },
   "outputs": [
    {
     "name": "stdout",
     "output_type": "stream",
     "text": [
      "1 2 3 4 5\n"
     ]
    }
   ],
   "source": [
    "a,b,c,d,e = x # 언패킹\n",
    "print(a,b,c,d,e)"
   ]
  },
  {
   "cell_type": "code",
   "execution_count": null,
   "id": "a5f9fd3c",
   "metadata": {
    "ExecuteTime": {
     "end_time": "2023-08-22T05:43:15.530709Z",
     "start_time": "2023-08-22T05:43:15.513568Z"
    }
   },
   "outputs": [],
   "source": [
    "x1,x2,x3 = x\n",
    "print(x1,x2,x3) # 5개의 값을 넣어줘야되는데 3개밖에 안넣었으니 에러가 난다."
   ]
  },
  {
   "cell_type": "code",
   "execution_count": 24,
   "id": "c30e8590",
   "metadata": {
    "ExecuteTime": {
     "end_time": "2023-08-29T02:14:10.063809Z",
     "start_time": "2023-08-29T02:14:07.057687Z"
    }
   },
   "outputs": [
    {
     "name": "stdout",
     "output_type": "stream",
     "text": [
      "숫자 = 10 20\n",
      "10 + 20 = 30\n"
     ]
    }
   ],
   "source": [
    "# 두 개의 정수를 입력받아 사칙연산의 결과를 출력하는 프로그램을 구현하시오.\n",
    "\n",
    "## 입력형식\n",
    "## 숫자 = 10 20\n",
    "\n",
    "## 출력형식\n",
    "## 10 + 20 = 30\n",
    "## 10 - 20 = -10\n",
    "## 10 * 20 = 200\n",
    "\n",
    "\n",
    "### 입력문\n",
    "# su1, su2 = int(input('숫자 = ').split())는 안된다. int는 하나의 값만 있어야 하니.\n",
    "\n",
    "su1, su2 = map(int, input('숫자 = ').split())\n",
    "\n",
    "\n",
    "### 처리문\n",
    "\n",
    "\n",
    "### 출력문\n",
    "\n",
    "print(f'{su1} + {su2} = {su1 + su2}')"
   ]
  },
  {
   "cell_type": "code",
   "execution_count": 26,
   "id": "c000ba73",
   "metadata": {
    "ExecuteTime": {
     "end_time": "2023-08-29T02:14:49.508405Z",
     "start_time": "2023-08-29T02:14:44.098892Z"
    }
   },
   "outputs": [
    {
     "name": "stdout",
     "output_type": "stream",
     "text": [
      "숫자 = 40 50\n",
      "40 + 50 = 90\n"
     ]
    }
   ],
   "source": [
    "su1, su2 = input('숫자 = ').split()\n",
    "\n",
    "### 처리문\n",
    "su1 = int(su1)\n",
    "su2 = int(su2)\n",
    "\n",
    "### 출력문\n",
    "print(f'{su1} + {su2} = {su1 + su2}')\n",
    "\n",
    "# 결과값은 같아도 위 셀이 더 빠르다!"
   ]
  },
  {
   "cell_type": "markdown",
   "id": "a62a2003",
   "metadata": {},
   "source": [
    "### 성적처리 프로그램 1단계\n",
    "\n",
    "국어, 영어, 수학점수를 입력받아 총점과 평균을 구하는 프로그램을 구현하시오.\n",
    "단, 평균은 소숫점이하 둘째자리까지 표현할 것."
   ]
  },
  {
   "cell_type": "code",
   "execution_count": 2,
   "id": "54a8f0d0",
   "metadata": {
    "ExecuteTime": {
     "end_time": "2023-08-22T06:17:21.900765Z",
     "start_time": "2023-08-22T06:17:17.397088Z"
    }
   },
   "outputs": [
    {
     "name": "stdout",
     "output_type": "stream",
     "text": [
      "국어 = 45\n",
      "영어 = 65\n",
      "수학 = 78\n",
      "총점 : 188점, 평균 : 62.7점\n"
     ]
    }
   ],
   "source": [
    "# 입력형식\n",
    "## 국어 ==\n",
    "## 영어 ==\n",
    "## 수학 ==\n",
    "\n",
    "# 출력형식\n",
    "## 총점 : xx점, 평균 : xx.xx점\n",
    "\n",
    "kor = int(input('국어 = '))\n",
    "eng = int(input('영어 = '))\n",
    "mat = int(input('수학 = '))\n",
    "\n",
    "tot = kor + eng + mat\n",
    "avg = tot / 3\n",
    "\n",
    "print(\"총점 : {0}점, 평균 : {1:.1f}점\".format(tot,avg))"
   ]
  },
  {
   "cell_type": "code",
   "execution_count": null,
   "id": "5656dccc",
   "metadata": {
    "ExecuteTime": {
     "end_time": "2023-08-22T06:03:15.381182Z",
     "start_time": "2023-08-22T06:03:15.373306Z"
    }
   },
   "outputs": [],
   "source": []
  },
  {
   "cell_type": "code",
   "execution_count": null,
   "id": "d58faa3d",
   "metadata": {},
   "outputs": [],
   "source": []
  }
 ],
 "metadata": {
  "kernelspec": {
   "display_name": "Python 3",
   "language": "python",
   "name": "python3"
  },
  "language_info": {
   "codemirror_mode": {
    "name": "ipython",
    "version": 3
   },
   "file_extension": ".py",
   "mimetype": "text/x-python",
   "name": "python",
   "nbconvert_exporter": "python",
   "pygments_lexer": "ipython3",
   "version": "3.8.8"
  },
  "toc": {
   "base_numbering": 1,
   "nav_menu": {},
   "number_sections": true,
   "sideBar": true,
   "skip_h1_title": false,
   "title_cell": "Table of Contents",
   "title_sidebar": "Contents",
   "toc_cell": false,
   "toc_position": {},
   "toc_section_display": true,
   "toc_window_display": false
  },
  "varInspector": {
   "cols": {
    "lenName": 16,
    "lenType": 16,
    "lenVar": 40
   },
   "kernels_config": {
    "python": {
     "delete_cmd_postfix": "",
     "delete_cmd_prefix": "del ",
     "library": "var_list.py",
     "varRefreshCmd": "print(var_dic_list())"
    },
    "r": {
     "delete_cmd_postfix": ") ",
     "delete_cmd_prefix": "rm(",
     "library": "var_list.r",
     "varRefreshCmd": "cat(var_dic_list()) "
    }
   },
   "types_to_exclude": [
    "module",
    "function",
    "builtin_function_or_method",
    "instance",
    "_Feature"
   ],
   "window_display": false
  }
 },
 "nbformat": 4,
 "nbformat_minor": 5
}

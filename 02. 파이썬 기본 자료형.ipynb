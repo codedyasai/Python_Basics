{
 "cells": [
  {
   "cell_type": "markdown",
   "id": "1d633fb8",
   "metadata": {},
   "source": [
    "# 기본 자료형\n",
    "## 정수형(int, integer)"
   ]
  },
  {
   "cell_type": "code",
   "execution_count": 4,
   "id": "357dda53",
   "metadata": {
    "ExecuteTime": {
     "end_time": "2023-08-22T01:07:19.337311Z",
     "start_time": "2023-08-22T01:07:19.331618Z"
    }
   },
   "outputs": [
    {
     "name": "stdout",
     "output_type": "stream",
     "text": [
      "<class 'int'>\n",
      "<class 'float'>\n",
      "<class 'str'>\n"
     ]
    }
   ],
   "source": [
    "# 변수(variable) : 변하는 수, 기억공간, 동적 자료형 == 동적 타이핑\n",
    "a = 13\n",
    "print(type(a))\n",
    "a = 3.14\n",
    "print(type(a))\n",
    "a = \"pee\"\n",
    "print(type(a))"
   ]
  },
  {
   "cell_type": "markdown",
   "id": "ccbc64df",
   "metadata": {
    "ExecuteTime": {
     "end_time": "2023-08-22T01:06:51.833466Z",
     "start_time": "2023-08-22T01:06:51.820910Z"
    }
   },
   "source": [
    "## 실수형(float, double)\n",
    "\n",
    "- 소숫점을 포함한 숫자 자료형\n",
    "- 지수 표현 방식대로 표현할 수 있다.\n"
   ]
  },
  {
   "cell_type": "code",
   "execution_count": 5,
   "id": "e55d65f2",
   "metadata": {
    "ExecuteTime": {
     "end_time": "2023-08-22T01:09:45.085734Z",
     "start_time": "2023-08-22T01:09:45.078703Z"
    }
   },
   "outputs": [
    {
     "name": "stdout",
     "output_type": "stream",
     "text": [
      "2.5 -1.5\n"
     ]
    }
   ],
   "source": [
    "a = 2.5\n",
    "b = -1.5\n",
    "print(a,b) # comma(,) : 열거연산자"
   ]
  },
  {
   "cell_type": "code",
   "execution_count": 7,
   "id": "2c554bd3",
   "metadata": {
    "ExecuteTime": {
     "end_time": "2023-08-22T01:10:27.239461Z",
     "start_time": "2023-08-22T01:10:27.233047Z"
    }
   },
   "outputs": [
    {
     "name": "stdout",
     "output_type": "stream",
     "text": [
      "12000000000.0 4.5e-10\n"
     ]
    }
   ],
   "source": [
    "a = 1.2E10\n",
    "b = 4.5e-10\n",
    "print(a,b)"
   ]
  },
  {
   "cell_type": "code",
   "execution_count": 8,
   "id": "d7302055",
   "metadata": {
    "ExecuteTime": {
     "end_time": "2023-08-22T01:11:56.983511Z",
     "start_time": "2023-08-22T01:11:56.972960Z"
    }
   },
   "outputs": [
    {
     "data": {
      "text/plain": [
       "0.1"
      ]
     },
     "execution_count": 8,
     "metadata": {},
     "output_type": "execute_result"
    }
   ],
   "source": [
    ".1"
   ]
  },
  {
   "cell_type": "code",
   "execution_count": 10,
   "id": "c3d04357",
   "metadata": {
    "ExecuteTime": {
     "end_time": "2023-08-22T01:17:35.060458Z",
     "start_time": "2023-08-22T01:17:35.055480Z"
    }
   },
   "outputs": [
    {
     "name": "stdout",
     "output_type": "stream",
     "text": [
      "<class 'int'>\n",
      "<class 'float'>\n"
     ]
    }
   ],
   "source": [
    "# 자료형을 확인하는 함수 type()\n",
    "print(type(10))\n",
    "print(type(10.0))"
   ]
  },
  {
   "cell_type": "markdown",
   "id": "c43a4d01",
   "metadata": {},
   "source": [
    "### 부동소수점(floating format point) 오차\n",
    "\n",
    "- 1보다 작은 수의 경우 십진법으로 표현하면 간단하지만 이진법으론 무한개의 유효숫자를 가짐"
   ]
  },
  {
   "cell_type": "code",
   "execution_count": 24,
   "id": "787b0bb5",
   "metadata": {
    "ExecuteTime": {
     "end_time": "2023-08-22T01:44:36.151271Z",
     "start_time": "2023-08-22T01:44:36.142244Z"
    }
   },
   "outputs": [
    {
     "data": {
      "text/plain": [
       "False"
      ]
     },
     "execution_count": 24,
     "metadata": {},
     "output_type": "execute_result"
    }
   ],
   "source": [
    "0.1 + 0.2 == 0.3 #TRUE가 안뜬다\n",
    "\n",
    "# 파이썬에서의 0.1은 실제로는 0.1이 아니다."
   ]
  },
  {
   "cell_type": "code",
   "execution_count": 32,
   "id": "b04aed1c",
   "metadata": {
    "ExecuteTime": {
     "end_time": "2023-08-22T01:44:53.991222Z",
     "start_time": "2023-08-22T01:44:53.977078Z"
    }
   },
   "outputs": [
    {
     "data": {
      "text/plain": [
       "'%.55f'"
      ]
     },
     "execution_count": 32,
     "metadata": {},
     "output_type": "execute_result"
    }
   ],
   "source": [
    "# 매직명령어(magic command)\n",
    "## 소숫점 자리수를 55자리까지 표현\n",
    "\n",
    "%precision 55"
   ]
  },
  {
   "cell_type": "code",
   "execution_count": 33,
   "id": "380c52be",
   "metadata": {
    "ExecuteTime": {
     "end_time": "2023-08-22T01:44:54.223996Z",
     "start_time": "2023-08-22T01:44:54.210971Z"
    }
   },
   "outputs": [
    {
     "data": {
      "text/plain": [
       "0.1000000000000000055511151231257827021181583404541015625"
      ]
     },
     "execution_count": 33,
     "metadata": {},
     "output_type": "execute_result"
    }
   ],
   "source": [
    "0.1"
   ]
  },
  {
   "cell_type": "code",
   "execution_count": 27,
   "id": "91021bb9",
   "metadata": {
    "ExecuteTime": {
     "end_time": "2023-08-22T01:44:37.807918Z",
     "start_time": "2023-08-22T01:44:37.789115Z"
    }
   },
   "outputs": [
    {
     "data": {
      "text/plain": [
       "0.3000000000000000444089209850062616169452667236328125000"
      ]
     },
     "execution_count": 27,
     "metadata": {},
     "output_type": "execute_result"
    }
   ],
   "source": [
    "0.1 + 0.2"
   ]
  },
  {
   "cell_type": "code",
   "execution_count": 28,
   "id": "95322c81",
   "metadata": {
    "ExecuteTime": {
     "end_time": "2023-08-22T01:44:38.150254Z",
     "start_time": "2023-08-22T01:44:38.142977Z"
    }
   },
   "outputs": [
    {
     "data": {
      "text/plain": [
       "True"
      ]
     },
     "execution_count": 28,
     "metadata": {},
     "output_type": "execute_result"
    }
   ],
   "source": [
    "round(0.1 + 0.2, 5) == round(0.3, 5)"
   ]
  },
  {
   "cell_type": "code",
   "execution_count": 37,
   "id": "e47ca77e",
   "metadata": {
    "ExecuteTime": {
     "end_time": "2023-08-22T01:48:36.775705Z",
     "start_time": "2023-08-22T01:48:36.766040Z"
    }
   },
   "outputs": [
    {
     "data": {
      "text/plain": [
       "'%r'"
      ]
     },
     "execution_count": 37,
     "metadata": {},
     "output_type": "execute_result"
    }
   ],
   "source": [
    "%precision %r \n",
    "#원상복귀"
   ]
  },
  {
   "cell_type": "markdown",
   "id": "7001bf2d",
   "metadata": {},
   "source": [
    "## 복소수형\n",
    "- $ a + bi $ 으로 표현한다"
   ]
  },
  {
   "cell_type": "code",
   "execution_count": 12,
   "id": "d2807205",
   "metadata": {
    "ExecuteTime": {
     "end_time": "2023-08-22T01:20:30.796056Z",
     "start_time": "2023-08-22T01:20:30.779072Z"
    }
   },
   "outputs": [],
   "source": [
    "a = 1 + 2j\n",
    "# bi = 1 + 2i"
   ]
  },
  {
   "cell_type": "code",
   "execution_count": 13,
   "id": "1c776182",
   "metadata": {
    "ExecuteTime": {
     "end_time": "2023-08-22T01:21:18.952472Z",
     "start_time": "2023-08-22T01:21:18.937064Z"
    }
   },
   "outputs": [
    {
     "name": "stdout",
     "output_type": "stream",
     "text": [
      "1.0\n",
      "2.0\n"
     ]
    }
   ],
   "source": [
    "# 실수부와 허수부를 출력하는 함수\n",
    "print(a.real) # 실수를 찍으라는 뜻\n",
    "print(a.imag) # 허수를 찍으라는 뜻"
   ]
  },
  {
   "cell_type": "markdown",
   "id": "b35c88d1",
   "metadata": {
    "ExecuteTime": {
     "end_time": "2023-08-22T01:21:27.871278Z",
     "start_time": "2023-08-22T01:21:27.858031Z"
    }
   },
   "source": [
    "## 8진수, 16진수\n",
    "\n",
    "- 일반적으로 사람은 10진수\n",
    "- 컴퓨터는 2진수(0,1)\n",
    "- 8진수(0~7) : 숫자 앞에 0e(숫자0 + 알파벳o 또는 O)\n",
    "- 16진수(0~9, a,b,c,d,e,f) : 숫자 앞에 0x"
   ]
  },
  {
   "cell_type": "code",
   "execution_count": 34,
   "id": "97ec47d0",
   "metadata": {
    "ExecuteTime": {
     "end_time": "2023-08-22T01:45:03.346117Z",
     "start_time": "2023-08-22T01:45:03.333193Z"
    }
   },
   "outputs": [
    {
     "name": "stdout",
     "output_type": "stream",
     "text": [
      "10 52\n"
     ]
    }
   ],
   "source": [
    "x =0o12 \n",
    "y = 0x34\n",
    "print(x,y)"
   ]
  },
  {
   "cell_type": "markdown",
   "id": "5abf8b98",
   "metadata": {},
   "source": [
    "## 자료형 변환\n",
    "\n",
    "- casting(강제형변환, 명시적형변환)\n",
    "- promotion(자동형변환, 묵시적형변환)"
   ]
  },
  {
   "cell_type": "code",
   "execution_count": 35,
   "id": "d2e188d8",
   "metadata": {
    "ExecuteTime": {
     "end_time": "2023-08-22T01:48:12.289652Z",
     "start_time": "2023-08-22T01:48:12.273547Z"
    }
   },
   "outputs": [
    {
     "data": {
      "text/plain": [
       "1"
      ]
     },
     "execution_count": 35,
     "metadata": {},
     "output_type": "execute_result"
    }
   ],
   "source": [
    "int(1.0) #실수를 정수로 변환"
   ]
  },
  {
   "cell_type": "code",
   "execution_count": 38,
   "id": "9352af7e",
   "metadata": {
    "ExecuteTime": {
     "end_time": "2023-08-22T01:48:41.082982Z",
     "start_time": "2023-08-22T01:48:41.064302Z"
    }
   },
   "outputs": [
    {
     "data": {
      "text/plain": [
       "1.0"
      ]
     },
     "execution_count": 38,
     "metadata": {},
     "output_type": "execute_result"
    }
   ],
   "source": [
    "float(1)"
   ]
  },
  {
   "cell_type": "code",
   "execution_count": 39,
   "id": "2f3079fd",
   "metadata": {
    "ExecuteTime": {
     "end_time": "2023-08-22T01:49:13.559113Z",
     "start_time": "2023-08-22T01:49:13.543980Z"
    }
   },
   "outputs": [
    {
     "data": {
      "text/plain": [
       "3"
      ]
     },
     "execution_count": 39,
     "metadata": {},
     "output_type": "execute_result"
    }
   ],
   "source": [
    "int(3.94) # 0.94를 버리고 3이 된다"
   ]
  },
  {
   "cell_type": "code",
   "execution_count": null,
   "id": "6fd88811",
   "metadata": {},
   "outputs": [],
   "source": [
    "# NaN과 Inf 특수상수들\n",
    "## NaN : Not a Number, 숫자가 아님\n",
    "## Inf : Infinity, 무한대 "
   ]
  },
  {
   "cell_type": "markdown",
   "id": "7936f47d",
   "metadata": {},
   "source": [
    "## 산술연산"
   ]
  },
  {
   "cell_type": "code",
   "execution_count": 40,
   "id": "bc987620",
   "metadata": {
    "ExecuteTime": {
     "end_time": "2023-08-22T01:52:41.893009Z",
     "start_time": "2023-08-22T01:52:41.880052Z"
    }
   },
   "outputs": [
    {
     "data": {
      "text/plain": [
       "2"
      ]
     },
     "execution_count": 40,
     "metadata": {},
     "output_type": "execute_result"
    }
   ],
   "source": [
    "1 + 1"
   ]
  },
  {
   "cell_type": "markdown",
   "id": "75b7f911",
   "metadata": {},
   "source": [
    "### 연산자(Operator)\n",
    "\n",
    "- '+', '-', '*', '//', '%'  "
   ]
  },
  {
   "cell_type": "code",
   "execution_count": 44,
   "id": "f0a1da11",
   "metadata": {
    "ExecuteTime": {
     "end_time": "2023-08-22T01:56:31.075822Z",
     "start_time": "2023-08-22T01:56:31.058286Z"
    }
   },
   "outputs": [
    {
     "name": "stdout",
     "output_type": "stream",
     "text": [
      "18\n",
      "6.0\n",
      "6\n",
      "243\n",
      "1\n"
     ]
    }
   ],
   "source": [
    "print(30-12)\n",
    "\n",
    "print(30/5) # 실수몫\n",
    "\n",
    "print(30//5) # 정수몫\n",
    "\n",
    "print(3**5)\n",
    "\n",
    "print(7 % 2) #나머지"
   ]
  },
  {
   "cell_type": "markdown",
   "id": "83df17b4",
   "metadata": {},
   "source": [
    "## 논리연산, 관계연산(비교)\n",
    "\n",
    "- 관계연산자: >, >=, <, <=, !=, ==\n",
    "- 논리연산자 : &(AND), |(OR), !(NOT)\n",
    "- 연산자의 결과는 반드시 참(T, True) 또는 거짓(F, False)"
   ]
  },
  {
   "cell_type": "markdown",
   "id": "a10ddd80",
   "metadata": {},
   "source": [
    "# 변수(Variable)\n",
    "\n",
    "1. 변수명의 작성규칙\n",
    "    - 알파벳, 숫자, 밑줄(_)로 선언할 수 있다\n",
    "    - 첫 글자는 영문자, 대,소문자, 밑줄로 시작한다.\n",
    "    - 변수명은 의미있는 단어로 표현하는 것이 좋다\n",
    "    - 공백을 포함할 수 없다\n",
    "    - 예약어는 사용할 수 없다.\n",
    "    \n",
    "<br>\n",
    "\n",
    "2. 동적 타이핑(Dynamic Typing)\n",
    "    - 변수의 메모리 공간을 확보하는 행위가 실행시점에서 발생하는 것\n",
    "    - 일반적으로 C나 Java 처럼 변수를 사용하기 전에 선언해야 하는 것은 정적 타이핑(static typing)"
   ]
  },
  {
   "cell_type": "code",
   "execution_count": 45,
   "id": "2e5d1d80",
   "metadata": {
    "ExecuteTime": {
     "end_time": "2023-08-22T02:20:44.415633Z",
     "start_time": "2023-08-22T02:20:44.405392Z"
    }
   },
   "outputs": [],
   "source": [
    "# 형식 : 변수 = 상수(리터널, 값), 변수, 함수식\n",
    "pi = 3.14159265"
   ]
  },
  {
   "cell_type": "code",
   "execution_count": 46,
   "id": "ad02e4fa",
   "metadata": {
    "ExecuteTime": {
     "end_time": "2023-08-22T02:21:02.143691Z",
     "start_time": "2023-08-22T02:21:02.127698Z"
    }
   },
   "outputs": [
    {
     "data": {
      "text/plain": [
       "3.14159265"
      ]
     },
     "execution_count": 46,
     "metadata": {},
     "output_type": "execute_result"
    }
   ],
   "source": [
    "pi"
   ]
  },
  {
   "cell_type": "code",
   "execution_count": 47,
   "id": "47e6364b",
   "metadata": {
    "ExecuteTime": {
     "end_time": "2023-08-22T02:27:54.904084Z",
     "start_time": "2023-08-22T02:27:54.899715Z"
    }
   },
   "outputs": [
    {
     "name": "stdout",
     "output_type": "stream",
     "text": [
      "원주율 :  3.14159265\n",
      "반지름 :  10\n",
      "원의 둘레 :  62.831853\n",
      "원의 면적 :  314.159265\n"
     ]
    }
   ],
   "source": [
    "# 원주율을 이용하여 반지름이 10인 원의 넓이와 둘레를 구하는 프로그램\n",
    "\n",
    "## 선언문 영역, 초기화 영역 : 변수를 선언하고 변수에 처음값을 담는 영역\n",
    "pi = 3.14159265\n",
    "r = 10\n",
    "\n",
    "## 입력문 영역 : 변수에 값을 입력받는 영역\n",
    "\n",
    "## 처리문 영역, 명령어나 제어문을 통해 프로그램을 처리하는 영역\n",
    "\n",
    "## 출력문 영역\n",
    "\n",
    "print(\"원주율 : \", pi)\n",
    "print(\"반지름 : \", r)\n",
    "print(\"원의 둘레 : \", 2*pi*r)\n",
    "print(\"원의 면적 : \", r*r*pi)"
   ]
  },
  {
   "cell_type": "markdown",
   "id": "29472665",
   "metadata": {},
   "source": [
    "## 배정대입연산자 or 복합대입연산자\n",
    "\n",
    "- 기본 연산자와 대입연산자(=)을 함께 사용하는 것\n",
    "- 대입연산자(=) 좌우에 동일한 변수가 주어질 때 축약형으로 구현\n",
    "- 연산자 종류 : +=, -=, *=, /=, %="
   ]
  },
  {
   "cell_type": "code",
   "execution_count": 48,
   "id": "147b5a9a",
   "metadata": {
    "ExecuteTime": {
     "end_time": "2023-08-22T02:31:04.256362Z",
     "start_time": "2023-08-22T02:31:04.251054Z"
    }
   },
   "outputs": [
    {
     "name": "stdout",
     "output_type": "stream",
     "text": [
      "x =  10\n",
      "x =  20\n"
     ]
    }
   ],
   "source": [
    "x = 10\n",
    "print(\"x = \", x)\n",
    "\n",
    "x += 10 # x = x + 10의 의미\n",
    "print(\"x = \", x)"
   ]
  },
  {
   "cell_type": "code",
   "execution_count": 50,
   "id": "b08bb73a",
   "metadata": {
    "ExecuteTime": {
     "end_time": "2023-08-22T02:33:50.014753Z",
     "start_time": "2023-08-22T02:33:49.999821Z"
    }
   },
   "outputs": [
    {
     "name": "stdout",
     "output_type": "stream",
     "text": [
      "string =  안녕하세여!!\n"
     ]
    }
   ],
   "source": [
    "# 문자열에서 '+' 연산자는 연결연산자, 문자열과 문자열을 연결할 때 사용한다\n",
    "string = \"안녕하세여\"\n",
    "string += \"!\"\n",
    "string += \"!\"\n",
    "\n",
    "print(\"string = \", string)"
   ]
  },
  {
   "cell_type": "code",
   "execution_count": 51,
   "id": "ca7d3ca6",
   "metadata": {
    "ExecuteTime": {
     "end_time": "2023-08-22T02:35:04.312377Z",
     "start_time": "2023-08-22T02:35:04.304155Z"
    }
   },
   "outputs": [
    {
     "name": "stdout",
     "output_type": "stream",
     "text": [
      "안녕하세여\n",
      "안녕하세여안녕하세여안녕하세여\n"
     ]
    }
   ],
   "source": [
    "# 문자열에서 '*' 연산자 반복연산자, 해당문자열을 주어진 반복횟수만큼 반복처리한다.\n",
    "string = '안녕하세여'\n",
    "print(string)\n",
    "print(string * 3)"
   ]
  },
  {
   "cell_type": "code",
   "execution_count": 52,
   "id": "1c576134",
   "metadata": {
    "ExecuteTime": {
     "end_time": "2023-08-22T02:36:20.097940Z",
     "start_time": "2023-08-22T02:36:20.081077Z"
    }
   },
   "outputs": [
    {
     "name": "stdout",
     "output_type": "stream",
     "text": [
      "hihihi\n"
     ]
    }
   ],
   "source": [
    "string = \"hi\"\n",
    "string *= 3\n",
    "print(string)"
   ]
  },
  {
   "cell_type": "markdown",
   "id": "f589dcb8",
   "metadata": {},
   "source": [
    "# 문자열 자료형"
   ]
  },
  {
   "cell_type": "markdown",
   "id": "bcf681f5",
   "metadata": {},
   "source": [
    "## 문자열 생성\n",
    "\n",
    "- 문자열은 '', \"\", ''' ''' ,\"\"\" \"\"\" 안에 들어오는 것. 뒤에 2개는 여러줄 문자열"
   ]
  },
  {
   "cell_type": "code",
   "execution_count": 1,
   "id": "75f8ce1f",
   "metadata": {
    "ExecuteTime": {
     "end_time": "2023-09-05T05:38:46.506579Z",
     "start_time": "2023-09-05T05:38:46.483767Z"
    }
   },
   "outputs": [
    {
     "name": "stdout",
     "output_type": "stream",
     "text": [
      "sup\n"
     ]
    },
    {
     "data": {
      "text/plain": [
       "str"
      ]
     },
     "execution_count": 1,
     "metadata": {},
     "output_type": "execute_result"
    }
   ],
   "source": [
    "b = \"sup\"\n",
    "print(b)\n",
    "type(b)"
   ]
  },
  {
   "cell_type": "code",
   "execution_count": 2,
   "id": "8adf79e1",
   "metadata": {
    "ExecuteTime": {
     "end_time": "2023-08-22T03:12:34.395303Z",
     "start_time": "2023-08-22T03:12:34.391569Z"
    }
   },
   "outputs": [
    {
     "name": "stdout",
     "output_type": "stream",
     "text": [
      " tell'em to \n",
      " bring out the whole ocean\n"
     ]
    }
   ],
   "source": [
    "e = \" tell'em to \\n bring out the whole ocean\"\n",
    "print(e)"
   ]
  },
  {
   "cell_type": "markdown",
   "id": "4fdd89e6",
   "metadata": {},
   "source": [
    "## 문자열 연산 : +, *"
   ]
  },
  {
   "cell_type": "code",
   "execution_count": 3,
   "id": "bb92fe2a",
   "metadata": {
    "ExecuteTime": {
     "end_time": "2023-08-22T03:13:58.856423Z",
     "start_time": "2023-08-22T03:13:58.845511Z"
    }
   },
   "outputs": [
    {
     "name": "stdout",
     "output_type": "stream",
     "text": [
      "wholewhole\n",
      "wholeocean\n"
     ]
    }
   ],
   "source": [
    "a = 'whole'\n",
    "b = 'ocean'\n",
    "\n",
    "print(a * 2)\n",
    "print(a + b)"
   ]
  },
  {
   "cell_type": "markdown",
   "id": "b3376322",
   "metadata": {},
   "source": [
    "## 문자열 인덱싱(Indexing)\n",
    "\n",
    "- **인덱싱(Indexing)** 은 특정 위치를 가리킨다는 의미를 가진다.\n",
    "- 문자열은 일반적으로 메모리에 저장될 때 list 즉, 1차원 배열의 형태로 저장된다.\n",
    "- 각 문자는 해당 위치(인덱스 또는 색인)를 통해서 읽어올 수 있다.\n",
    "- 인덱스의 시작은 0부터다."
   ]
  },
  {
   "cell_type": "code",
   "execution_count": 17,
   "id": "725daf4c",
   "metadata": {
    "ExecuteTime": {
     "end_time": "2023-08-29T01:08:56.725671Z",
     "start_time": "2023-08-29T01:08:56.714992Z"
    }
   },
   "outputs": [
    {
     "name": "stdout",
     "output_type": "stream",
     "text": [
      "Tell'em to bring out the whole ocean\n"
     ]
    },
    {
     "data": {
      "text/plain": [
       "'T'"
      ]
     },
     "execution_count": 17,
     "metadata": {},
     "output_type": "execute_result"
    }
   ],
   "source": [
    "string = \"Tell'em to bring out the whole ocean\"\n",
    "\n",
    "print(string)\n",
    "\n",
    "string[0]"
   ]
  },
  {
   "cell_type": "code",
   "execution_count": 6,
   "id": "64a16a49",
   "metadata": {
    "ExecuteTime": {
     "end_time": "2023-08-22T03:20:27.816828Z",
     "start_time": "2023-08-22T03:20:27.801639Z"
    }
   },
   "outputs": [
    {
     "data": {
      "text/plain": [
       "'Tel'"
      ]
     },
     "execution_count": 6,
     "metadata": {},
     "output_type": "execute_result"
    }
   ],
   "source": [
    "# [인덱스]\n",
    "# [start : stop] , start +1 : stop까지 읽어옴\n",
    "string[0:3]"
   ]
  },
  {
   "cell_type": "code",
   "execution_count": 7,
   "id": "70c9a39a",
   "metadata": {
    "ExecuteTime": {
     "end_time": "2023-08-22T03:21:25.160271Z",
     "start_time": "2023-08-22T03:21:25.150885Z"
    }
   },
   "outputs": [
    {
     "data": {
      "text/plain": [
       "'n'"
      ]
     },
     "execution_count": 7,
     "metadata": {},
     "output_type": "execute_result"
    }
   ],
   "source": [
    "string[-1]"
   ]
  },
  {
   "cell_type": "code",
   "execution_count": 8,
   "id": "9bdede7e",
   "metadata": {
    "ExecuteTime": {
     "end_time": "2023-08-22T03:22:00.155962Z",
     "start_time": "2023-08-22T03:22:00.142547Z"
    }
   },
   "outputs": [
    {
     "data": {
      "text/plain": [
       "'Tell'"
      ]
     },
     "execution_count": 8,
     "metadata": {},
     "output_type": "execute_result"
    }
   ],
   "source": [
    "string[ : 4]"
   ]
  },
  {
   "cell_type": "code",
   "execution_count": 25,
   "id": "4610e687",
   "metadata": {
    "ExecuteTime": {
     "end_time": "2023-08-29T01:10:25.658699Z",
     "start_time": "2023-08-29T01:10:25.639524Z"
    }
   },
   "outputs": [
    {
     "data": {
      "text/plain": [
       "' ocean'"
      ]
     },
     "execution_count": 25,
     "metadata": {},
     "output_type": "execute_result"
    }
   ],
   "source": [
    "string[-6 : ]"
   ]
  },
  {
   "cell_type": "markdown",
   "id": "44e01de2",
   "metadata": {},
   "source": [
    "## 문자열 포매팅(Formating)\n",
    "\n",
    "- 문자열 내의 특정 위치값을 바꾸거나 서식을 이용하여 표시할 때 사용한다.\n",
    "- 서식(format) 기호\n",
    "\n",
    "1. %s : 문자열(string)\n",
    "2. %c : 문자1개(character)\n",
    "3. %d : 10진정수(decimal)\n",
    "4. %f : 실수(float)\n",
    "5. %o : 8진수\n",
    "6. %x : 16진수\n",
    "7. %% : %"
   ]
  },
  {
   "cell_type": "markdown",
   "id": "864d140a",
   "metadata": {},
   "source": [
    "## 문자열 관련 함수"
   ]
  },
  {
   "cell_type": "code",
   "execution_count": 14,
   "id": "801bb9ef",
   "metadata": {
    "ExecuteTime": {
     "end_time": "2023-08-22T03:29:05.958269Z",
     "start_time": "2023-08-22T03:29:05.953286Z"
    }
   },
   "outputs": [
    {
     "name": "stdout",
     "output_type": "stream",
     "text": [
      "aaa bbb ccc\n",
      "['aaa', 'bbb', 'ccc']\n"
     ]
    }
   ],
   "source": [
    "string = 'aaa bbb ccc'\n",
    "print(string)\n",
    "print(string.split())"
   ]
  },
  {
   "cell_type": "code",
   "execution_count": 15,
   "id": "c62d47b5",
   "metadata": {
    "ExecuteTime": {
     "end_time": "2023-08-22T03:30:02.866160Z",
     "start_time": "2023-08-22T03:30:02.853098Z"
    }
   },
   "outputs": [
    {
     "name": "stdout",
     "output_type": "stream",
     "text": [
      "['961111 ', ' abcdefg']\n"
     ]
    }
   ],
   "source": [
    "jumin = '961111 - abcdefg'\n",
    "print(jumin.split('-'))\n"
   ]
  },
  {
   "cell_type": "code",
   "execution_count": 27,
   "id": "49f3f93a",
   "metadata": {
    "ExecuteTime": {
     "end_time": "2023-08-29T01:23:06.490136Z",
     "start_time": "2023-08-29T01:23:06.476126Z"
    }
   },
   "outputs": [
    {
     "data": {
      "text/plain": [
       "'w-h-o-l-e-o-c-e-a-n'"
      ]
     },
     "execution_count": 27,
     "metadata": {},
     "output_type": "execute_result"
    }
   ],
   "source": [
    "s = \"wholeocean\"\n",
    "'-'.join(s)"
   ]
  },
  {
   "cell_type": "code",
   "execution_count": null,
   "id": "b6d0f264",
   "metadata": {},
   "outputs": [],
   "source": []
  }
 ],
 "metadata": {
  "kernelspec": {
   "display_name": "Python 3",
   "language": "python",
   "name": "python3"
  },
  "language_info": {
   "codemirror_mode": {
    "name": "ipython",
    "version": 3
   },
   "file_extension": ".py",
   "mimetype": "text/x-python",
   "name": "python",
   "nbconvert_exporter": "python",
   "pygments_lexer": "ipython3",
   "version": "3.8.8"
  },
  "toc": {
   "base_numbering": 1,
   "nav_menu": {},
   "number_sections": true,
   "sideBar": true,
   "skip_h1_title": false,
   "title_cell": "Table of Contents",
   "title_sidebar": "Contents",
   "toc_cell": false,
   "toc_position": {},
   "toc_section_display": true,
   "toc_window_display": false
  },
  "varInspector": {
   "cols": {
    "lenName": 16,
    "lenType": 16,
    "lenVar": 40
   },
   "kernels_config": {
    "python": {
     "delete_cmd_postfix": "",
     "delete_cmd_prefix": "del ",
     "library": "var_list.py",
     "varRefreshCmd": "print(var_dic_list())"
    },
    "r": {
     "delete_cmd_postfix": ") ",
     "delete_cmd_prefix": "rm(",
     "library": "var_list.r",
     "varRefreshCmd": "cat(var_dic_list()) "
    }
   },
   "types_to_exclude": [
    "module",
    "function",
    "builtin_function_or_method",
    "instance",
    "_Feature"
   ],
   "window_display": false
  }
 },
 "nbformat": 4,
 "nbformat_minor": 5
}
